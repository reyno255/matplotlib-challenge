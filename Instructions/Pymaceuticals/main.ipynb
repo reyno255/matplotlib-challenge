{
 "cells": [
  {
   "cell_type": "markdown",
   "metadata": {},
   "source": [
    "## Observations and Insights "
   ]
  },
  {
   "cell_type": "markdown",
   "metadata": {},
   "source": []
  },
  {
   "cell_type": "code",
   "execution_count": 1,
   "metadata": {},
   "outputs": [
    {
     "data": {
      "text/html": [
       "<div>\n",
       "<style scoped>\n",
       "    .dataframe tbody tr th:only-of-type {\n",
       "        vertical-align: middle;\n",
       "    }\n",
       "\n",
       "    .dataframe tbody tr th {\n",
       "        vertical-align: top;\n",
       "    }\n",
       "\n",
       "    .dataframe thead th {\n",
       "        text-align: right;\n",
       "    }\n",
       "</style>\n",
       "<table border=\"1\" class=\"dataframe\">\n",
       "  <thead>\n",
       "    <tr style=\"text-align: right;\">\n",
       "      <th></th>\n",
       "      <th>Mouse ID</th>\n",
       "      <th>Drug Regimen</th>\n",
       "      <th>Sex</th>\n",
       "      <th>Age_months</th>\n",
       "      <th>Weight (g)</th>\n",
       "      <th>Timepoint</th>\n",
       "      <th>Tumor Volume (mm3)</th>\n",
       "      <th>Metastatic Sites</th>\n",
       "    </tr>\n",
       "  </thead>\n",
       "  <tbody>\n",
       "    <tr>\n",
       "      <th>1645</th>\n",
       "      <td>v835</td>\n",
       "      <td>Naftisol</td>\n",
       "      <td>Male</td>\n",
       "      <td>7</td>\n",
       "      <td>29</td>\n",
       "      <td>20</td>\n",
       "      <td>51.296543</td>\n",
       "      <td>2</td>\n",
       "    </tr>\n",
       "    <tr>\n",
       "      <th>354</th>\n",
       "      <td>g316</td>\n",
       "      <td>Capomulin</td>\n",
       "      <td>Female</td>\n",
       "      <td>22</td>\n",
       "      <td>22</td>\n",
       "      <td>15</td>\n",
       "      <td>45.216743</td>\n",
       "      <td>0</td>\n",
       "    </tr>\n",
       "    <tr>\n",
       "      <th>1500</th>\n",
       "      <td>s166</td>\n",
       "      <td>Placebo</td>\n",
       "      <td>Male</td>\n",
       "      <td>19</td>\n",
       "      <td>27</td>\n",
       "      <td>5</td>\n",
       "      <td>47.186788</td>\n",
       "      <td>0</td>\n",
       "    </tr>\n",
       "    <tr>\n",
       "      <th>616</th>\n",
       "      <td>b759</td>\n",
       "      <td>Ceftamin</td>\n",
       "      <td>Female</td>\n",
       "      <td>12</td>\n",
       "      <td>25</td>\n",
       "      <td>25</td>\n",
       "      <td>55.083632</td>\n",
       "      <td>0</td>\n",
       "    </tr>\n",
       "    <tr>\n",
       "      <th>1549</th>\n",
       "      <td>t451</td>\n",
       "      <td>Stelasyn</td>\n",
       "      <td>Male</td>\n",
       "      <td>8</td>\n",
       "      <td>29</td>\n",
       "      <td>40</td>\n",
       "      <td>67.654796</td>\n",
       "      <td>1</td>\n",
       "    </tr>\n",
       "    <tr>\n",
       "      <th>328</th>\n",
       "      <td>j119</td>\n",
       "      <td>Capomulin</td>\n",
       "      <td>Female</td>\n",
       "      <td>7</td>\n",
       "      <td>23</td>\n",
       "      <td>0</td>\n",
       "      <td>45.000000</td>\n",
       "      <td>0</td>\n",
       "    </tr>\n",
       "    <tr>\n",
       "      <th>1847</th>\n",
       "      <td>y865</td>\n",
       "      <td>Ceftamin</td>\n",
       "      <td>Male</td>\n",
       "      <td>23</td>\n",
       "      <td>26</td>\n",
       "      <td>5</td>\n",
       "      <td>46.735006</td>\n",
       "      <td>1</td>\n",
       "    </tr>\n",
       "    <tr>\n",
       "      <th>396</th>\n",
       "      <td>e662</td>\n",
       "      <td>Ramicane</td>\n",
       "      <td>Male</td>\n",
       "      <td>8</td>\n",
       "      <td>24</td>\n",
       "      <td>25</td>\n",
       "      <td>44.664594</td>\n",
       "      <td>1</td>\n",
       "    </tr>\n",
       "    <tr>\n",
       "      <th>1004</th>\n",
       "      <td>j755</td>\n",
       "      <td>Naftisol</td>\n",
       "      <td>Male</td>\n",
       "      <td>23</td>\n",
       "      <td>27</td>\n",
       "      <td>0</td>\n",
       "      <td>45.000000</td>\n",
       "      <td>0</td>\n",
       "    </tr>\n",
       "    <tr>\n",
       "      <th>406</th>\n",
       "      <td>u196</td>\n",
       "      <td>Ramicane</td>\n",
       "      <td>Male</td>\n",
       "      <td>18</td>\n",
       "      <td>25</td>\n",
       "      <td>25</td>\n",
       "      <td>46.705325</td>\n",
       "      <td>1</td>\n",
       "    </tr>\n",
       "  </tbody>\n",
       "</table>\n",
       "</div>"
      ],
      "text/plain": [
       "     Mouse ID Drug Regimen     Sex  Age_months  Weight (g)  Timepoint  \\\n",
       "1645     v835     Naftisol    Male           7          29         20   \n",
       "354      g316    Capomulin  Female          22          22         15   \n",
       "1500     s166      Placebo    Male          19          27          5   \n",
       "616      b759     Ceftamin  Female          12          25         25   \n",
       "1549     t451     Stelasyn    Male           8          29         40   \n",
       "328      j119    Capomulin  Female           7          23          0   \n",
       "1847     y865     Ceftamin    Male          23          26          5   \n",
       "396      e662     Ramicane    Male           8          24         25   \n",
       "1004     j755     Naftisol    Male          23          27          0   \n",
       "406      u196     Ramicane    Male          18          25         25   \n",
       "\n",
       "      Tumor Volume (mm3)  Metastatic Sites  \n",
       "1645           51.296543                 2  \n",
       "354            45.216743                 0  \n",
       "1500           47.186788                 0  \n",
       "616            55.083632                 0  \n",
       "1549           67.654796                 1  \n",
       "328            45.000000                 0  \n",
       "1847           46.735006                 1  \n",
       "396            44.664594                 1  \n",
       "1004           45.000000                 0  \n",
       "406            46.705325                 1  "
      ]
     },
     "execution_count": 1,
     "metadata": {},
     "output_type": "execute_result"
    }
   ],
   "source": [
    "# Dependencies and Setup\n",
    "import matplotlib.pyplot as plt\n",
    "import pandas as pd\n",
    "import scipy.stats as st\n",
    "\n",
    "# Study data files\n",
    "mouse_metadata_path = \"data/Mouse_metadata.csv\"\n",
    "study_results_path = \"data/Study_results.csv\"\n",
    "\n",
    "# Read the mouse data and the study results\n",
    "mouse_metadata = pd.read_csv(mouse_metadata_path)\n",
    "study_results = pd.read_csv(study_results_path)\n",
    "study_results\n",
    "# Combine the data into a single dataset\n",
    "combined_df= mouse_metadata.merge(study_results, on='Mouse ID', how='inner')\n",
    "\n",
    "# Display the data table for preview\n",
    "combined_df.sample(10)"
   ]
  },
  {
   "cell_type": "code",
   "execution_count": 2,
   "metadata": {},
   "outputs": [
    {
     "name": "stdout",
     "output_type": "stream",
     "text": [
      "Number of Cases = 1893\n",
      "Number of Mice = 249\n"
     ]
    }
   ],
   "source": [
    "# Checking the number of mice.\n",
    "num_cases = len(combined_df)\n",
    "print(f'Number of Cases = {num_cases}')\n",
    "\n",
    "num_mice = len(combined_df['Mouse ID'].unique())\n",
    "print(f'Number of Mice = {num_mice}')"
   ]
  },
  {
   "cell_type": "code",
   "execution_count": 3,
   "metadata": {},
   "outputs": [
    {
     "name": "stdout",
     "output_type": "stream",
     "text": [
      "     Mouse ID\n",
      "1464     r604\n",
      "749      c927\n",
      "1272     o331\n",
      "662      c302\n",
      "91       j913\n",
      "...       ...\n",
      "480      a262\n",
      "1121     l558\n",
      "1800     x930\n",
      "166      a644\n",
      "301      b128\n",
      "\n",
      "[91 rows x 1 columns]\n"
     ]
    }
   ],
   "source": [
    "# Getting the duplicate mice by ID number that shows up for Mouse ID and Timepoint. \n",
    "dupe_mouse_mask = combined_df.duplicated(subset=['Mouse ID'])\n",
    "\n",
    "dupe_mice = combined_df[dupe_mouse_mask].sample(100)\n",
    "dupe_timepoint = dupe_mice.duplicated(subset=['Timepoint'])\n",
    "mice_duplicates = pd.DataFrame({'Mouse ID': dupe_mice[dupe_timepoint]['Mouse ID']})\n",
    "\n",
    "print(mice_duplicates)\n",
    "\n",
    "#clean_df = combined_df.query(\"Mouse ID in mice_duplicates\")\n"
   ]
  },
  {
   "cell_type": "code",
   "execution_count": 4,
   "metadata": {},
   "outputs": [],
   "source": [
    "# Optional: Get all the data for the duplicate mouse ID. \n",
    "unclean_df = combined_df[combined_df.isin(mice_duplicates)]\n",
    "#unclean_df.to_excel('optional_unclean.xlsx', engine='xlsxwriter') "
   ]
  },
  {
   "cell_type": "code",
   "execution_count": 5,
   "metadata": {},
   "outputs": [],
   "source": [
    "# Create a clean DataFrame by dropping the duplicate mouse by its ID.\n",
    "clean_df = combined_df[~combined_df.isin(mice_duplicates)].dropna()\n",
    "#clean_df.to_excel('output1.xlsx', engine='xlsxwriter') "
   ]
  },
  {
   "cell_type": "code",
   "execution_count": 6,
   "metadata": {},
   "outputs": [
    {
     "name": "stdout",
     "output_type": "stream",
     "text": [
      "Number of Mice that have no Timepoint duplication: 249\n"
     ]
    }
   ],
   "source": [
    "# Checking the number of mice in the clean DataFrame.\n",
    "count_clean_df = len(clean_df['Mouse ID'].unique())\n",
    "print(f'Number of Mice that have no Timepoint duplication: {count_clean_df}')"
   ]
  },
  {
   "cell_type": "markdown",
   "metadata": {},
   "source": [
    "## Summary Statistics"
   ]
  },
  {
   "cell_type": "code",
   "execution_count": 18,
   "metadata": {},
   "outputs": [
    {
     "data": {
      "text/html": [
       "<div>\n",
       "<style scoped>\n",
       "    .dataframe tbody tr th:only-of-type {\n",
       "        vertical-align: middle;\n",
       "    }\n",
       "\n",
       "    .dataframe tbody tr th {\n",
       "        vertical-align: top;\n",
       "    }\n",
       "\n",
       "    .dataframe thead th {\n",
       "        text-align: right;\n",
       "    }\n",
       "</style>\n",
       "<table border=\"1\" class=\"dataframe\">\n",
       "  <thead>\n",
       "    <tr style=\"text-align: right;\">\n",
       "      <th></th>\n",
       "      <th>TumorVol Mean</th>\n",
       "      <th>TumorVol Median</th>\n",
       "      <th>TumorVol Variance</th>\n",
       "      <th>TumorVol StdDev</th>\n",
       "      <th>TumorVol StdErr</th>\n",
       "    </tr>\n",
       "    <tr>\n",
       "      <th>Drug Regimen</th>\n",
       "      <th></th>\n",
       "      <th></th>\n",
       "      <th></th>\n",
       "      <th></th>\n",
       "      <th></th>\n",
       "    </tr>\n",
       "  </thead>\n",
       "  <tbody>\n",
       "    <tr>\n",
       "      <th>Capomulin</th>\n",
       "      <td>40.654440</td>\n",
       "      <td>41.557809</td>\n",
       "      <td>25.442762</td>\n",
       "      <td>5.044082</td>\n",
       "      <td>0.340072</td>\n",
       "    </tr>\n",
       "    <tr>\n",
       "      <th>Ceftamin</th>\n",
       "      <td>52.526669</td>\n",
       "      <td>51.635527</td>\n",
       "      <td>38.868834</td>\n",
       "      <td>6.234487</td>\n",
       "      <td>0.478163</td>\n",
       "    </tr>\n",
       "    <tr>\n",
       "      <th>Infubinol</th>\n",
       "      <td>52.769281</td>\n",
       "      <td>51.736561</td>\n",
       "      <td>43.760370</td>\n",
       "      <td>6.615162</td>\n",
       "      <td>0.508859</td>\n",
       "    </tr>\n",
       "    <tr>\n",
       "      <th>Ketapril</th>\n",
       "      <td>55.343296</td>\n",
       "      <td>53.757945</td>\n",
       "      <td>69.695983</td>\n",
       "      <td>8.348412</td>\n",
       "      <td>0.623990</td>\n",
       "    </tr>\n",
       "    <tr>\n",
       "      <th>Naftisol</th>\n",
       "      <td>54.314902</td>\n",
       "      <td>52.484804</td>\n",
       "      <td>67.568073</td>\n",
       "      <td>8.219980</td>\n",
       "      <td>0.617852</td>\n",
       "    </tr>\n",
       "    <tr>\n",
       "      <th>Placebo</th>\n",
       "      <td>53.778949</td>\n",
       "      <td>51.950574</td>\n",
       "      <td>60.647436</td>\n",
       "      <td>7.787646</td>\n",
       "      <td>0.592084</td>\n",
       "    </tr>\n",
       "    <tr>\n",
       "      <th>Propriva</th>\n",
       "      <td>52.144882</td>\n",
       "      <td>50.137432</td>\n",
       "      <td>42.753707</td>\n",
       "      <td>6.538632</td>\n",
       "      <td>0.530353</td>\n",
       "    </tr>\n",
       "    <tr>\n",
       "      <th>Ramicane</th>\n",
       "      <td>40.133035</td>\n",
       "      <td>40.667713</td>\n",
       "      <td>23.702562</td>\n",
       "      <td>4.868528</td>\n",
       "      <td>0.330497</td>\n",
       "    </tr>\n",
       "    <tr>\n",
       "      <th>Stelasyn</th>\n",
       "      <td>53.995205</td>\n",
       "      <td>52.154203</td>\n",
       "      <td>58.212757</td>\n",
       "      <td>7.629728</td>\n",
       "      <td>0.588646</td>\n",
       "    </tr>\n",
       "    <tr>\n",
       "      <th>Zoniferol</th>\n",
       "      <td>53.077049</td>\n",
       "      <td>51.414904</td>\n",
       "      <td>48.398335</td>\n",
       "      <td>6.956891</td>\n",
       "      <td>0.522912</td>\n",
       "    </tr>\n",
       "  </tbody>\n",
       "</table>\n",
       "</div>"
      ],
      "text/plain": [
       "              TumorVol Mean  TumorVol Median  TumorVol Variance  \\\n",
       "Drug Regimen                                                      \n",
       "Capomulin         40.654440        41.557809          25.442762   \n",
       "Ceftamin          52.526669        51.635527          38.868834   \n",
       "Infubinol         52.769281        51.736561          43.760370   \n",
       "Ketapril          55.343296        53.757945          69.695983   \n",
       "Naftisol          54.314902        52.484804          67.568073   \n",
       "Placebo           53.778949        51.950574          60.647436   \n",
       "Propriva          52.144882        50.137432          42.753707   \n",
       "Ramicane          40.133035        40.667713          23.702562   \n",
       "Stelasyn          53.995205        52.154203          58.212757   \n",
       "Zoniferol         53.077049        51.414904          48.398335   \n",
       "\n",
       "              TumorVol StdDev  TumorVol StdErr  \n",
       "Drug Regimen                                    \n",
       "Capomulin            5.044082         0.340072  \n",
       "Ceftamin             6.234487         0.478163  \n",
       "Infubinol            6.615162         0.508859  \n",
       "Ketapril             8.348412         0.623990  \n",
       "Naftisol             8.219980         0.617852  \n",
       "Placebo              7.787646         0.592084  \n",
       "Propriva             6.538632         0.530353  \n",
       "Ramicane             4.868528         0.330497  \n",
       "Stelasyn             7.629728         0.588646  \n",
       "Zoniferol            6.956891         0.522912  "
      ]
     },
     "execution_count": 18,
     "metadata": {},
     "output_type": "execute_result"
    }
   ],
   "source": [
    "# Generate a summary statistics table of mean, median, variance, standard deviation, and SEM of the tumor volume for each regimen\n",
    "grouped_clean = clean_df.groupby(by=['Drug Regimen'])\n",
    "clean_df_mean = clean_df.groupby(by=['Drug Regimen']).mean()\n",
    "clean_df_median = clean_df.groupby(by=['Drug Regimen']).median()\n",
    "clean_df_var = clean_df.groupby(by=['Drug Regimen']).var()\n",
    "clean_df_stdev = clean_df.groupby(by=['Drug Regimen']).std()\n",
    "clean_df_sem = clean_df.groupby(by=['Drug Regimen']).sem()\n",
    "\n",
    "summary_stats_df = pd.DataFrame({'TumorVol Mean':clean_df_mean['Tumor Volume (mm3)'],\n",
    "                                'TumorVol Median':clean_df_median['Tumor Volume (mm3)'],\n",
    "                                'TumorVol Variance':clean_df_var['Tumor Volume (mm3)'],\n",
    "                                 'TumorVol StdDev':clean_df_stdev['Tumor Volume (mm3)'],\n",
    "                                 'TumorVol StdErr':clean_df_sem['Tumor Volume (mm3)']})\n",
    "\n",
    "\n",
    "summary_stats_df\n",
    "\n",
    "# Use groupby and summary statistical methods to calculate the following properties of each drug regimen: \n",
    "# mean, median, variance, standard deviation, and SEM of the tumor volume. \n",
    "# Assemble the resulting series into a single summary dataframe.\n",
    "\n"
   ]
  },
  {
   "cell_type": "code",
   "execution_count": 12,
   "metadata": {},
   "outputs": [
    {
     "name": "stdout",
     "output_type": "stream",
     "text": [
      "<pandas.core.groupby.generic.DataFrameGroupBy object at 0x7fafd95a51c0>\n"
     ]
    }
   ],
   "source": [
    "# Generate a summary statistics table of mean, median, variance, standard deviation, and SEM of the tumor volume for each regimen\n",
    "df_grouped = clean_df.groupby(by='Drug Regimen')\n",
    "\n",
    "# Using the aggregation method, produce the same summary statistics in a single line\n"
   ]
  },
  {
   "cell_type": "markdown",
   "metadata": {},
   "source": [
    "## Bar and Pie Charts"
   ]
  },
  {
   "cell_type": "code",
   "execution_count": null,
   "metadata": {},
   "outputs": [],
   "source": [
    "# Generate a bar plot showing the total number of measurements taken on each drug regimen using pandas.\n",
    "\n"
   ]
  },
  {
   "cell_type": "code",
   "execution_count": null,
   "metadata": {},
   "outputs": [],
   "source": [
    "# Generate a bar plot showing the total number of measurements taken on each drug regimen using pyplot.\n",
    "\n"
   ]
  },
  {
   "cell_type": "code",
   "execution_count": null,
   "metadata": {},
   "outputs": [],
   "source": [
    "# Generate a pie plot showing the distribution of female versus male mice using pandas\n",
    "\n"
   ]
  },
  {
   "cell_type": "code",
   "execution_count": null,
   "metadata": {},
   "outputs": [],
   "source": [
    "# Generate a pie plot showing the distribution of female versus male mice using pyplot\n",
    "\n"
   ]
  },
  {
   "cell_type": "markdown",
   "metadata": {},
   "source": [
    "## Quartiles, Outliers and Boxplots"
   ]
  },
  {
   "cell_type": "code",
   "execution_count": null,
   "metadata": {},
   "outputs": [],
   "source": [
    "# Calculate the final tumor volume of each mouse across four of the treatment regimens:  \n",
    "# Capomulin, Ramicane, Infubinol, and Ceftamin\n",
    "\n",
    "# Start by getting the last (greatest) timepoint for each mouse\n",
    "\n",
    "\n",
    "# Merge this group df with the original dataframe to get the tumor volume at the last timepoint\n"
   ]
  },
  {
   "cell_type": "code",
   "execution_count": null,
   "metadata": {},
   "outputs": [],
   "source": [
    "# Put treatments into a list for for loop (and later for plot labels)\n",
    "\n",
    "\n",
    "# Create empty list to fill with tumor vol data (for plotting)\n",
    "\n",
    "\n",
    "# Calculate the IQR and quantitatively determine if there are any potential outliers. \n",
    "\n",
    "    \n",
    "    # Locate the rows which contain mice on each drug and get the tumor volumes\n",
    "    \n",
    "    \n",
    "    # add subset \n",
    "    \n",
    "    \n",
    "    # Determine outliers using upper and lower bounds\n",
    "    "
   ]
  },
  {
   "cell_type": "code",
   "execution_count": null,
   "metadata": {},
   "outputs": [],
   "source": [
    "# Generate a box plot of the final tumor volume of each mouse across four regimens of interest\n"
   ]
  },
  {
   "cell_type": "markdown",
   "metadata": {},
   "source": [
    "## Line and Scatter Plots"
   ]
  },
  {
   "cell_type": "code",
   "execution_count": null,
   "metadata": {},
   "outputs": [],
   "source": [
    "# Generate a line plot of tumor volume vs. time point for a mouse treated with Capomulin\n"
   ]
  },
  {
   "cell_type": "code",
   "execution_count": null,
   "metadata": {},
   "outputs": [],
   "source": [
    "# Generate a scatter plot of average tumor volume vs. mouse weight for the Capomulin regimen\n"
   ]
  },
  {
   "cell_type": "markdown",
   "metadata": {},
   "source": [
    "## Correlation and Regression"
   ]
  },
  {
   "cell_type": "code",
   "execution_count": null,
   "metadata": {},
   "outputs": [],
   "source": [
    "# Calculate the correlation coefficient and linear regression model \n",
    "# for mouse weight and average tumor volume for the Capomulin regimen\n"
   ]
  },
  {
   "cell_type": "code",
   "execution_count": null,
   "metadata": {},
   "outputs": [],
   "source": []
  }
 ],
 "metadata": {
  "anaconda-cloud": {},
  "kernelspec": {
   "display_name": "Python 3",
   "language": "python",
   "name": "python3"
  },
  "language_info": {
   "codemirror_mode": {
    "name": "ipython",
    "version": 3
   },
   "file_extension": ".py",
   "mimetype": "text/x-python",
   "name": "python",
   "nbconvert_exporter": "python",
   "pygments_lexer": "ipython3",
   "version": "3.8.3"
  }
 },
 "nbformat": 4,
 "nbformat_minor": 4
}
