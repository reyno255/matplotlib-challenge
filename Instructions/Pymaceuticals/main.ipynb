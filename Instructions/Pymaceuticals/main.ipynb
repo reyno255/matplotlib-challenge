{
 "cells": [
  {
   "cell_type": "markdown",
   "metadata": {},
   "source": [
    "## Observations and Insights "
   ]
  },
  {
   "cell_type": "markdown",
   "metadata": {},
   "source": []
  },
  {
   "cell_type": "code",
   "execution_count": 1,
   "metadata": {},
   "outputs": [
    {
     "data": {
      "text/html": [
       "<div>\n",
       "<style scoped>\n",
       "    .dataframe tbody tr th:only-of-type {\n",
       "        vertical-align: middle;\n",
       "    }\n",
       "\n",
       "    .dataframe tbody tr th {\n",
       "        vertical-align: top;\n",
       "    }\n",
       "\n",
       "    .dataframe thead th {\n",
       "        text-align: right;\n",
       "    }\n",
       "</style>\n",
       "<table border=\"1\" class=\"dataframe\">\n",
       "  <thead>\n",
       "    <tr style=\"text-align: right;\">\n",
       "      <th></th>\n",
       "      <th>Mouse ID</th>\n",
       "      <th>Drug Regimen</th>\n",
       "      <th>Sex</th>\n",
       "      <th>Age_months</th>\n",
       "      <th>Weight (g)</th>\n",
       "      <th>Timepoint</th>\n",
       "      <th>Tumor Volume (mm3)</th>\n",
       "      <th>Metastatic Sites</th>\n",
       "    </tr>\n",
       "  </thead>\n",
       "  <tbody>\n",
       "    <tr>\n",
       "      <th>1517</th>\n",
       "      <td>s337</td>\n",
       "      <td>Zoniferol</td>\n",
       "      <td>Male</td>\n",
       "      <td>14</td>\n",
       "      <td>27</td>\n",
       "      <td>40</td>\n",
       "      <td>56.994816</td>\n",
       "      <td>4</td>\n",
       "    </tr>\n",
       "    <tr>\n",
       "      <th>1795</th>\n",
       "      <td>x822</td>\n",
       "      <td>Ceftamin</td>\n",
       "      <td>Male</td>\n",
       "      <td>3</td>\n",
       "      <td>29</td>\n",
       "      <td>35</td>\n",
       "      <td>56.796567</td>\n",
       "      <td>2</td>\n",
       "    </tr>\n",
       "    <tr>\n",
       "      <th>1792</th>\n",
       "      <td>x822</td>\n",
       "      <td>Ceftamin</td>\n",
       "      <td>Male</td>\n",
       "      <td>3</td>\n",
       "      <td>29</td>\n",
       "      <td>20</td>\n",
       "      <td>51.914910</td>\n",
       "      <td>2</td>\n",
       "    </tr>\n",
       "    <tr>\n",
       "      <th>972</th>\n",
       "      <td>i901</td>\n",
       "      <td>Stelasyn</td>\n",
       "      <td>Male</td>\n",
       "      <td>23</td>\n",
       "      <td>29</td>\n",
       "      <td>15</td>\n",
       "      <td>51.419642</td>\n",
       "      <td>0</td>\n",
       "    </tr>\n",
       "    <tr>\n",
       "      <th>1275</th>\n",
       "      <td>o331</td>\n",
       "      <td>Ketapril</td>\n",
       "      <td>Male</td>\n",
       "      <td>24</td>\n",
       "      <td>30</td>\n",
       "      <td>35</td>\n",
       "      <td>70.126238</td>\n",
       "      <td>2</td>\n",
       "    </tr>\n",
       "    <tr>\n",
       "      <th>9</th>\n",
       "      <td>k403</td>\n",
       "      <td>Ramicane</td>\n",
       "      <td>Male</td>\n",
       "      <td>21</td>\n",
       "      <td>16</td>\n",
       "      <td>45</td>\n",
       "      <td>22.050126</td>\n",
       "      <td>1</td>\n",
       "    </tr>\n",
       "    <tr>\n",
       "      <th>207</th>\n",
       "      <td>a520</td>\n",
       "      <td>Ramicane</td>\n",
       "      <td>Male</td>\n",
       "      <td>13</td>\n",
       "      <td>21</td>\n",
       "      <td>10</td>\n",
       "      <td>36.429388</td>\n",
       "      <td>0</td>\n",
       "    </tr>\n",
       "    <tr>\n",
       "      <th>203</th>\n",
       "      <td>i738</td>\n",
       "      <td>Capomulin</td>\n",
       "      <td>Female</td>\n",
       "      <td>23</td>\n",
       "      <td>20</td>\n",
       "      <td>40</td>\n",
       "      <td>36.843898</td>\n",
       "      <td>2</td>\n",
       "    </tr>\n",
       "    <tr>\n",
       "      <th>785</th>\n",
       "      <td>e291</td>\n",
       "      <td>Naftisol</td>\n",
       "      <td>Female</td>\n",
       "      <td>14</td>\n",
       "      <td>29</td>\n",
       "      <td>0</td>\n",
       "      <td>45.000000</td>\n",
       "      <td>0</td>\n",
       "    </tr>\n",
       "    <tr>\n",
       "      <th>769</th>\n",
       "      <td>e213</td>\n",
       "      <td>Naftisol</td>\n",
       "      <td>Male</td>\n",
       "      <td>8</td>\n",
       "      <td>27</td>\n",
       "      <td>20</td>\n",
       "      <td>52.613763</td>\n",
       "      <td>2</td>\n",
       "    </tr>\n",
       "  </tbody>\n",
       "</table>\n",
       "</div>"
      ],
      "text/plain": [
       "     Mouse ID Drug Regimen     Sex  Age_months  Weight (g)  Timepoint  \\\n",
       "1517     s337    Zoniferol    Male          14          27         40   \n",
       "1795     x822     Ceftamin    Male           3          29         35   \n",
       "1792     x822     Ceftamin    Male           3          29         20   \n",
       "972      i901     Stelasyn    Male          23          29         15   \n",
       "1275     o331     Ketapril    Male          24          30         35   \n",
       "9        k403     Ramicane    Male          21          16         45   \n",
       "207      a520     Ramicane    Male          13          21         10   \n",
       "203      i738    Capomulin  Female          23          20         40   \n",
       "785      e291     Naftisol  Female          14          29          0   \n",
       "769      e213     Naftisol    Male           8          27         20   \n",
       "\n",
       "      Tumor Volume (mm3)  Metastatic Sites  \n",
       "1517           56.994816                 4  \n",
       "1795           56.796567                 2  \n",
       "1792           51.914910                 2  \n",
       "972            51.419642                 0  \n",
       "1275           70.126238                 2  \n",
       "9              22.050126                 1  \n",
       "207            36.429388                 0  \n",
       "203            36.843898                 2  \n",
       "785            45.000000                 0  \n",
       "769            52.613763                 2  "
      ]
     },
     "execution_count": 1,
     "metadata": {},
     "output_type": "execute_result"
    }
   ],
   "source": [
    "# Dependencies and Setup\n",
    "import matplotlib.pyplot as plt\n",
    "from matplotlib.colors import ListedColormap\n",
    "import pandas as pd\n",
    "import scipy.stats as st\n",
    "\n",
    "# Study data files\n",
    "mouse_metadata_path = \"data/Mouse_metadata.csv\"\n",
    "study_results_path = \"data/Study_results.csv\"\n",
    "\n",
    "# Read the mouse data and the study results\n",
    "mouse_metadata = pd.read_csv(mouse_metadata_path)\n",
    "study_results = pd.read_csv(study_results_path)\n",
    "study_results\n",
    "# Combine the data into a single dataset\n",
    "combined_df= mouse_metadata.merge(study_results, on='Mouse ID', how='inner')\n",
    "\n",
    "# Display the data table for preview\n",
    "combined_df.sample(10)"
   ]
  },
  {
   "cell_type": "code",
   "execution_count": 2,
   "metadata": {},
   "outputs": [
    {
     "name": "stdout",
     "output_type": "stream",
     "text": [
      "Number of Cases = 1893\n",
      "Number of Mice = 249\n"
     ]
    }
   ],
   "source": [
    "# Checking the number of mice.\n",
    "num_cases = len(combined_df)\n",
    "print(f'Number of Cases = {num_cases}')\n",
    "\n",
    "num_mice = len(combined_df['Mouse ID'].unique())\n",
    "print(f'Number of Mice = {num_mice}')"
   ]
  },
  {
   "cell_type": "code",
   "execution_count": 3,
   "metadata": {},
   "outputs": [
    {
     "name": "stdout",
     "output_type": "stream",
     "text": [
      "     Mouse ID\n",
      "1819     y260\n",
      "1612     v295\n",
      "241      g288\n",
      "1618     v409\n",
      "760      d474\n",
      "...       ...\n",
      "1791     x822\n",
      "1385     p981\n",
      "1036     k382\n",
      "1235     n763\n",
      "1265     o302\n",
      "\n",
      "[91 rows x 1 columns]\n"
     ]
    }
   ],
   "source": [
    "# Getting the duplicate mice by ID number that shows up for Mouse ID and Timepoint. \n",
    "dupe_mouse_mask = combined_df.duplicated(subset=['Mouse ID'])\n",
    "\n",
    "dupe_mice = combined_df[dupe_mouse_mask].sample(100)\n",
    "dupe_timepoint = dupe_mice.duplicated(subset=['Timepoint'])\n",
    "mice_duplicates = pd.DataFrame({'Mouse ID': dupe_mice[dupe_timepoint]['Mouse ID']})\n",
    "\n",
    "print(mice_duplicates)\n",
    "\n",
    "#clean_df = combined_df.query(\"Mouse ID in mice_duplicates\")\n"
   ]
  },
  {
   "cell_type": "code",
   "execution_count": 4,
   "metadata": {},
   "outputs": [],
   "source": [
    "# Optional: Get all the data for the duplicate mouse ID. \n",
    "unclean_df = combined_df[combined_df.isin(mice_duplicates)]\n",
    "#unclean_df.to_excel('optional_unclean.xlsx', engine='xlsxwriter') "
   ]
  },
  {
   "cell_type": "code",
   "execution_count": 5,
   "metadata": {},
   "outputs": [],
   "source": [
    "# Create a clean DataFrame by dropping the duplicate mouse by its ID.\n",
    "clean_df = combined_df[~combined_df.isin(mice_duplicates)].dropna()\n",
    "#clean_df.to_excel('output1.xlsx', engine='xlsxwriter') "
   ]
  },
  {
   "cell_type": "code",
   "execution_count": 6,
   "metadata": {},
   "outputs": [
    {
     "name": "stdout",
     "output_type": "stream",
     "text": [
      "Number of Mice that have no Timepoint duplication: 249\n"
     ]
    }
   ],
   "source": [
    "# Checking the number of mice in the clean DataFrame.\n",
    "count_clean_df = len(clean_df['Mouse ID'].unique())\n",
    "print(f'Number of Mice that have no Timepoint duplication: {count_clean_df}')"
   ]
  },
  {
   "cell_type": "markdown",
   "metadata": {},
   "source": [
    "## Summary Statistics"
   ]
  },
  {
   "cell_type": "code",
   "execution_count": 7,
   "metadata": {},
   "outputs": [
    {
     "data": {
      "text/html": [
       "<div>\n",
       "<style scoped>\n",
       "    .dataframe tbody tr th:only-of-type {\n",
       "        vertical-align: middle;\n",
       "    }\n",
       "\n",
       "    .dataframe tbody tr th {\n",
       "        vertical-align: top;\n",
       "    }\n",
       "\n",
       "    .dataframe thead th {\n",
       "        text-align: right;\n",
       "    }\n",
       "</style>\n",
       "<table border=\"1\" class=\"dataframe\">\n",
       "  <thead>\n",
       "    <tr style=\"text-align: right;\">\n",
       "      <th></th>\n",
       "      <th>TumorVol Mean</th>\n",
       "      <th>TumorVol Median</th>\n",
       "      <th>TumorVol Variance</th>\n",
       "      <th>TumorVol StdDev</th>\n",
       "      <th>TumorVol StdErr</th>\n",
       "    </tr>\n",
       "    <tr>\n",
       "      <th>Drug Regimen</th>\n",
       "      <th></th>\n",
       "      <th></th>\n",
       "      <th></th>\n",
       "      <th></th>\n",
       "      <th></th>\n",
       "    </tr>\n",
       "  </thead>\n",
       "  <tbody>\n",
       "    <tr>\n",
       "      <th>Capomulin</th>\n",
       "      <td>40.609086</td>\n",
       "      <td>41.439242</td>\n",
       "      <td>25.029856</td>\n",
       "      <td>5.002985</td>\n",
       "      <td>0.339625</td>\n",
       "    </tr>\n",
       "    <tr>\n",
       "      <th>Ceftamin</th>\n",
       "      <td>52.474174</td>\n",
       "      <td>51.587799</td>\n",
       "      <td>39.458832</td>\n",
       "      <td>6.281627</td>\n",
       "      <td>0.489024</td>\n",
       "    </tr>\n",
       "    <tr>\n",
       "      <th>Infubinol</th>\n",
       "      <td>52.886785</td>\n",
       "      <td>51.820584</td>\n",
       "      <td>44.331950</td>\n",
       "      <td>6.658224</td>\n",
       "      <td>0.507685</td>\n",
       "    </tr>\n",
       "    <tr>\n",
       "      <th>Ketapril</th>\n",
       "      <td>55.178900</td>\n",
       "      <td>53.721242</td>\n",
       "      <td>68.349860</td>\n",
       "      <td>8.267397</td>\n",
       "      <td>0.617934</td>\n",
       "    </tr>\n",
       "    <tr>\n",
       "      <th>Naftisol</th>\n",
       "      <td>54.114855</td>\n",
       "      <td>52.026639</td>\n",
       "      <td>65.892080</td>\n",
       "      <td>8.117394</td>\n",
       "      <td>0.608424</td>\n",
       "    </tr>\n",
       "    <tr>\n",
       "      <th>Placebo</th>\n",
       "      <td>54.010478</td>\n",
       "      <td>52.288934</td>\n",
       "      <td>61.264168</td>\n",
       "      <td>7.827143</td>\n",
       "      <td>0.591676</td>\n",
       "    </tr>\n",
       "    <tr>\n",
       "      <th>Propriva</th>\n",
       "      <td>52.327766</td>\n",
       "      <td>50.854632</td>\n",
       "      <td>44.004564</td>\n",
       "      <td>6.633594</td>\n",
       "      <td>0.543445</td>\n",
       "    </tr>\n",
       "    <tr>\n",
       "      <th>Ramicane</th>\n",
       "      <td>40.384697</td>\n",
       "      <td>41.020724</td>\n",
       "      <td>23.196916</td>\n",
       "      <td>4.816318</td>\n",
       "      <td>0.324716</td>\n",
       "    </tr>\n",
       "    <tr>\n",
       "      <th>Stelasyn</th>\n",
       "      <td>54.329649</td>\n",
       "      <td>52.431737</td>\n",
       "      <td>60.773934</td>\n",
       "      <td>7.795764</td>\n",
       "      <td>0.596157</td>\n",
       "    </tr>\n",
       "    <tr>\n",
       "      <th>Zoniferol</th>\n",
       "      <td>53.220437</td>\n",
       "      <td>51.628719</td>\n",
       "      <td>48.889053</td>\n",
       "      <td>6.992071</td>\n",
       "      <td>0.527047</td>\n",
       "    </tr>\n",
       "  </tbody>\n",
       "</table>\n",
       "</div>"
      ],
      "text/plain": [
       "              TumorVol Mean  TumorVol Median  TumorVol Variance  \\\n",
       "Drug Regimen                                                      \n",
       "Capomulin         40.609086        41.439242          25.029856   \n",
       "Ceftamin          52.474174        51.587799          39.458832   \n",
       "Infubinol         52.886785        51.820584          44.331950   \n",
       "Ketapril          55.178900        53.721242          68.349860   \n",
       "Naftisol          54.114855        52.026639          65.892080   \n",
       "Placebo           54.010478        52.288934          61.264168   \n",
       "Propriva          52.327766        50.854632          44.004564   \n",
       "Ramicane          40.384697        41.020724          23.196916   \n",
       "Stelasyn          54.329649        52.431737          60.773934   \n",
       "Zoniferol         53.220437        51.628719          48.889053   \n",
       "\n",
       "              TumorVol StdDev  TumorVol StdErr  \n",
       "Drug Regimen                                    \n",
       "Capomulin            5.002985         0.339625  \n",
       "Ceftamin             6.281627         0.489024  \n",
       "Infubinol            6.658224         0.507685  \n",
       "Ketapril             8.267397         0.617934  \n",
       "Naftisol             8.117394         0.608424  \n",
       "Placebo              7.827143         0.591676  \n",
       "Propriva             6.633594         0.543445  \n",
       "Ramicane             4.816318         0.324716  \n",
       "Stelasyn             7.795764         0.596157  \n",
       "Zoniferol            6.992071         0.527047  "
      ]
     },
     "execution_count": 7,
     "metadata": {},
     "output_type": "execute_result"
    }
   ],
   "source": [
    "# Generate a summary statistics table of mean, median, variance, standard deviation, and SEM of the tumor volume for each regimen\n",
    "# Use groupby and summary statistical methods to calculate the following properties of each drug regimen: \n",
    "\n",
    "# mean, median, variance, standard deviation, and SEM of the tumor volume. \n",
    "grouped_clean = clean_df.groupby(by=['Drug Regimen'])\n",
    "clean_df_mean = grouped_clean.mean()\n",
    "clean_df_median = grouped_clean.median()\n",
    "clean_df_var = grouped_clean.var()\n",
    "clean_df_stdev = grouped_clean.std()\n",
    "clean_df_sem = grouped_clean.sem()\n",
    "\n",
    "# Assemble the resulting series into a single summary dataframe.\n",
    "summary_stats_df = pd.DataFrame({'TumorVol Mean':clean_df_mean['Tumor Volume (mm3)'],\n",
    "                                'TumorVol Median':clean_df_median['Tumor Volume (mm3)'],\n",
    "                                'TumorVol Variance':clean_df_var['Tumor Volume (mm3)'],\n",
    "                                 'TumorVol StdDev':clean_df_stdev['Tumor Volume (mm3)'],\n",
    "                                 'TumorVol StdErr':clean_df_sem['Tumor Volume (mm3)']})\n",
    "\n",
    "\n",
    "summary_stats_df\n"
   ]
  },
  {
   "cell_type": "code",
   "execution_count": 8,
   "metadata": {},
   "outputs": [
    {
     "data": {
      "text/html": [
       "<div>\n",
       "<style scoped>\n",
       "    .dataframe tbody tr th:only-of-type {\n",
       "        vertical-align: middle;\n",
       "    }\n",
       "\n",
       "    .dataframe tbody tr th {\n",
       "        vertical-align: top;\n",
       "    }\n",
       "\n",
       "    .dataframe thead th {\n",
       "        text-align: right;\n",
       "    }\n",
       "</style>\n",
       "<table border=\"1\" class=\"dataframe\">\n",
       "  <thead>\n",
       "    <tr style=\"text-align: right;\">\n",
       "      <th></th>\n",
       "      <th>mean</th>\n",
       "      <th>median</th>\n",
       "      <th>var</th>\n",
       "      <th>std</th>\n",
       "      <th>sem</th>\n",
       "    </tr>\n",
       "    <tr>\n",
       "      <th>Drug Regimen</th>\n",
       "      <th></th>\n",
       "      <th></th>\n",
       "      <th></th>\n",
       "      <th></th>\n",
       "      <th></th>\n",
       "    </tr>\n",
       "  </thead>\n",
       "  <tbody>\n",
       "    <tr>\n",
       "      <th>Capomulin</th>\n",
       "      <td>40.609086</td>\n",
       "      <td>41.439242</td>\n",
       "      <td>25.029856</td>\n",
       "      <td>5.002985</td>\n",
       "      <td>0.339625</td>\n",
       "    </tr>\n",
       "    <tr>\n",
       "      <th>Ceftamin</th>\n",
       "      <td>52.474174</td>\n",
       "      <td>51.587799</td>\n",
       "      <td>39.458832</td>\n",
       "      <td>6.281627</td>\n",
       "      <td>0.489024</td>\n",
       "    </tr>\n",
       "    <tr>\n",
       "      <th>Infubinol</th>\n",
       "      <td>52.886785</td>\n",
       "      <td>51.820584</td>\n",
       "      <td>44.331950</td>\n",
       "      <td>6.658224</td>\n",
       "      <td>0.507685</td>\n",
       "    </tr>\n",
       "    <tr>\n",
       "      <th>Ketapril</th>\n",
       "      <td>55.178900</td>\n",
       "      <td>53.721242</td>\n",
       "      <td>68.349860</td>\n",
       "      <td>8.267397</td>\n",
       "      <td>0.617934</td>\n",
       "    </tr>\n",
       "    <tr>\n",
       "      <th>Naftisol</th>\n",
       "      <td>54.114855</td>\n",
       "      <td>52.026639</td>\n",
       "      <td>65.892080</td>\n",
       "      <td>8.117394</td>\n",
       "      <td>0.608424</td>\n",
       "    </tr>\n",
       "    <tr>\n",
       "      <th>Placebo</th>\n",
       "      <td>54.010478</td>\n",
       "      <td>52.288934</td>\n",
       "      <td>61.264168</td>\n",
       "      <td>7.827143</td>\n",
       "      <td>0.591676</td>\n",
       "    </tr>\n",
       "    <tr>\n",
       "      <th>Propriva</th>\n",
       "      <td>52.327766</td>\n",
       "      <td>50.854632</td>\n",
       "      <td>44.004564</td>\n",
       "      <td>6.633594</td>\n",
       "      <td>0.543445</td>\n",
       "    </tr>\n",
       "    <tr>\n",
       "      <th>Ramicane</th>\n",
       "      <td>40.384697</td>\n",
       "      <td>41.020724</td>\n",
       "      <td>23.196916</td>\n",
       "      <td>4.816318</td>\n",
       "      <td>0.324716</td>\n",
       "    </tr>\n",
       "    <tr>\n",
       "      <th>Stelasyn</th>\n",
       "      <td>54.329649</td>\n",
       "      <td>52.431737</td>\n",
       "      <td>60.773934</td>\n",
       "      <td>7.795764</td>\n",
       "      <td>0.596157</td>\n",
       "    </tr>\n",
       "    <tr>\n",
       "      <th>Zoniferol</th>\n",
       "      <td>53.220437</td>\n",
       "      <td>51.628719</td>\n",
       "      <td>48.889053</td>\n",
       "      <td>6.992071</td>\n",
       "      <td>0.527047</td>\n",
       "    </tr>\n",
       "  </tbody>\n",
       "</table>\n",
       "</div>"
      ],
      "text/plain": [
       "                   mean     median        var       std       sem\n",
       "Drug Regimen                                                     \n",
       "Capomulin     40.609086  41.439242  25.029856  5.002985  0.339625\n",
       "Ceftamin      52.474174  51.587799  39.458832  6.281627  0.489024\n",
       "Infubinol     52.886785  51.820584  44.331950  6.658224  0.507685\n",
       "Ketapril      55.178900  53.721242  68.349860  8.267397  0.617934\n",
       "Naftisol      54.114855  52.026639  65.892080  8.117394  0.608424\n",
       "Placebo       54.010478  52.288934  61.264168  7.827143  0.591676\n",
       "Propriva      52.327766  50.854632  44.004564  6.633594  0.543445\n",
       "Ramicane      40.384697  41.020724  23.196916  4.816318  0.324716\n",
       "Stelasyn      54.329649  52.431737  60.773934  7.795764  0.596157\n",
       "Zoniferol     53.220437  51.628719  48.889053  6.992071  0.527047"
      ]
     },
     "execution_count": 8,
     "metadata": {},
     "output_type": "execute_result"
    }
   ],
   "source": [
    "# Generate a summary statistics table of mean, median, variance, standard deviation, and SEM of the tumor volume for each regimen\n",
    "df_grouped = clean_df.groupby(by='Drug Regimen')\n",
    "\n",
    "# Using the aggregation method, produce the same summary statistics in a single line\n",
    "df_grouped['Tumor Volume (mm3)'].agg(['mean','median','var','std','sem'])\n"
   ]
  },
  {
   "cell_type": "markdown",
   "metadata": {},
   "source": [
    "## Bar and Pie Charts"
   ]
  },
  {
   "cell_type": "code",
   "execution_count": 38,
   "metadata": {},
   "outputs": [
    {
     "data": {
      "text/plain": [
       "<matplotlib.axes._subplots.AxesSubplot at 0x7fc964d678e0>"
      ]
     },
     "execution_count": 38,
     "metadata": {},
     "output_type": "execute_result"
    },
    {
     "data": {
      "image/png": "[encoded data removed]",
      "text/plain": [
       "<Figure size 432x288 with 1 Axes>"
      ]
     },
     "metadata": {
      "needs_background": "light"
     },
     "output_type": "display_data"
    }
   ],
   "source": [
    "# Generate a bar plot showing the total number of measurements taken on each drug regimen using pandas.\n",
    "cmap = ListedColormap(['#e50000'])\n",
    "count_gph = grouped_clean['Mouse ID'].count().plot.bar(x=0,y=1,colormap=cmap)\n",
    "\n",
    "count_gph.set_xlabel('Regimen')\n",
    "count_gph.set_ylabel('Number of Measurements Taken')\n",
    "count_gph.set_title('Count of Measurements Taken per Regimen')\n",
    "\n",
    "count_gph.set_ylim(0,240)\n",
    "count_gph.set_xlim(-.75,9.75)\n",
    "\n",
    "count_gph"
   ]
  },
  {
   "cell_type": "code",
   "execution_count": 10,
   "metadata": {},
   "outputs": [],
   "source": [
    "# Generate a bar plot showing the total number of measurements taken on each drug regimen using pyplot.\n",
    "\n"
   ]
  },
  {
   "cell_type": "code",
   "execution_count": 11,
   "metadata": {},
   "outputs": [],
   "source": [
    "# Generate a pie plot showing the distribution of female versus male mice using pandas\n",
    "\n"
   ]
  },
  {
   "cell_type": "code",
   "execution_count": 12,
   "metadata": {},
   "outputs": [],
   "source": [
    "# Generate a pie plot showing the distribution of female versus male mice using pyplot\n",
    "\n"
   ]
  },
  {
   "cell_type": "markdown",
   "metadata": {},
   "source": [
    "## Quartiles, Outliers and Boxplots"
   ]
  },
  {
   "cell_type": "code",
   "execution_count": 13,
   "metadata": {},
   "outputs": [],
   "source": [
    "# Calculate the final tumor volume of each mouse across four of the treatment regimens:  \n",
    "# Capomulin, Ramicane, Infubinol, and Ceftamin\n",
    "\n",
    "# Start by getting the last (greatest) timepoint for each mouse\n",
    "\n",
    "\n",
    "# Merge this group df with the original dataframe to get the tumor volume at the last timepoint\n"
   ]
  },
  {
   "cell_type": "code",
   "execution_count": 14,
   "metadata": {},
   "outputs": [],
   "source": [
    "# Put treatments into a list for for loop (and later for plot labels)\n",
    "\n",
    "\n",
    "# Create empty list to fill with tumor vol data (for plotting)\n",
    "\n",
    "\n",
    "# Calculate the IQR and quantitatively determine if there are any potential outliers. \n",
    "\n",
    "    \n",
    "    # Locate the rows which contain mice on each drug and get the tumor volumes\n",
    "    \n",
    "    \n",
    "    # add subset \n",
    "    \n",
    "    \n",
    "    # Determine outliers using upper and lower bounds\n",
    "    "
   ]
  },
  {
   "cell_type": "code",
   "execution_count": 15,
   "metadata": {},
   "outputs": [],
   "source": [
    "# Generate a box plot of the final tumor volume of each mouse across four regimens of interest\n"
   ]
  },
  {
   "cell_type": "markdown",
   "metadata": {},
   "source": [
    "## Line and Scatter Plots"
   ]
  },
  {
   "cell_type": "code",
   "execution_count": 16,
   "metadata": {},
   "outputs": [],
   "source": [
    "# Generate a line plot of tumor volume vs. time point for a mouse treated with Capomulin\n"
   ]
  },
  {
   "cell_type": "code",
   "execution_count": 17,
   "metadata": {},
   "outputs": [],
   "source": [
    "# Generate a scatter plot of average tumor volume vs. mouse weight for the Capomulin regimen\n"
   ]
  },
  {
   "cell_type": "markdown",
   "metadata": {},
   "source": [
    "## Correlation and Regression"
   ]
  },
  {
   "cell_type": "code",
   "execution_count": 18,
   "metadata": {},
   "outputs": [],
   "source": [
    "# Calculate the correlation coefficient and linear regression model \n",
    "# for mouse weight and average tumor volume for the Capomulin regimen\n"
   ]
  },
  {
   "cell_type": "code",
   "execution_count": null,
   "metadata": {},
   "outputs": [],
   "source": []
  }
 ],
 "metadata": {
  "anaconda-cloud": {},
  "kernelspec": {
   "display_name": "Python 3",
   "language": "python",
   "name": "python3"
  },
  "language_info": {
   "codemirror_mode": {
    "name": "ipython",
    "version": 3
   },
   "file_extension": ".py",
   "mimetype": "text/x-python",
   "name": "python",
   "nbconvert_exporter": "python",
   "pygments_lexer": "ipython3",
   "version": "3.8.3"
  }
 },
 "nbformat": 4,
 "nbformat_minor": 4
}
