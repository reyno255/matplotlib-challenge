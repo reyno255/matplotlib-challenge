{
 "cells": [
  {
   "cell_type": "markdown",
   "metadata": {},
   "source": [
    "## Observations and Insights "
   ]
  },
  {
   "cell_type": "markdown",
   "metadata": {},
   "source": []
  },
  {
   "cell_type": "code",
   "execution_count": 1,
   "metadata": {},
   "outputs": [
    {
     "data": {
      "text/html": [
       "<div>\n",
       "<style scoped>\n",
       "    .dataframe tbody tr th:only-of-type {\n",
       "        vertical-align: middle;\n",
       "    }\n",
       "\n",
       "    .dataframe tbody tr th {\n",
       "        vertical-align: top;\n",
       "    }\n",
       "\n",
       "    .dataframe thead th {\n",
       "        text-align: right;\n",
       "    }\n",
       "</style>\n",
       "<table border=\"1\" class=\"dataframe\">\n",
       "  <thead>\n",
       "    <tr style=\"text-align: right;\">\n",
       "      <th></th>\n",
       "      <th>Mouse ID</th>\n",
       "      <th>Drug Regimen</th>\n",
       "      <th>Sex</th>\n",
       "      <th>Age_months</th>\n",
       "      <th>Weight (g)</th>\n",
       "      <th>Timepoint</th>\n",
       "      <th>Tumor Volume (mm3)</th>\n",
       "      <th>Metastatic Sites</th>\n",
       "    </tr>\n",
       "  </thead>\n",
       "  <tbody>\n",
       "    <tr>\n",
       "      <th>652</th>\n",
       "      <td>c282</td>\n",
       "      <td>Placebo</td>\n",
       "      <td>Male</td>\n",
       "      <td>12</td>\n",
       "      <td>27</td>\n",
       "      <td>20</td>\n",
       "      <td>51.950574</td>\n",
       "      <td>0</td>\n",
       "    </tr>\n",
       "    <tr>\n",
       "      <th>1023</th>\n",
       "      <td>j984</td>\n",
       "      <td>Stelasyn</td>\n",
       "      <td>Female</td>\n",
       "      <td>2</td>\n",
       "      <td>30</td>\n",
       "      <td>45</td>\n",
       "      <td>70.653832</td>\n",
       "      <td>1</td>\n",
       "    </tr>\n",
       "    <tr>\n",
       "      <th>1127</th>\n",
       "      <td>l661</td>\n",
       "      <td>Ceftamin</td>\n",
       "      <td>Male</td>\n",
       "      <td>18</td>\n",
       "      <td>26</td>\n",
       "      <td>20</td>\n",
       "      <td>52.617490</td>\n",
       "      <td>1</td>\n",
       "    </tr>\n",
       "    <tr>\n",
       "      <th>644</th>\n",
       "      <td>c264</td>\n",
       "      <td>Zoniferol</td>\n",
       "      <td>Female</td>\n",
       "      <td>11</td>\n",
       "      <td>27</td>\n",
       "      <td>30</td>\n",
       "      <td>57.823916</td>\n",
       "      <td>2</td>\n",
       "    </tr>\n",
       "    <tr>\n",
       "      <th>796</th>\n",
       "      <td>e476</td>\n",
       "      <td>Infubinol</td>\n",
       "      <td>Male</td>\n",
       "      <td>23</td>\n",
       "      <td>26</td>\n",
       "      <td>25</td>\n",
       "      <td>57.408638</td>\n",
       "      <td>0</td>\n",
       "    </tr>\n",
       "    <tr>\n",
       "      <th>1674</th>\n",
       "      <td>w167</td>\n",
       "      <td>Placebo</td>\n",
       "      <td>Female</td>\n",
       "      <td>6</td>\n",
       "      <td>28</td>\n",
       "      <td>15</td>\n",
       "      <td>53.900489</td>\n",
       "      <td>0</td>\n",
       "    </tr>\n",
       "    <tr>\n",
       "      <th>562</th>\n",
       "      <td>a818</td>\n",
       "      <td>Naftisol</td>\n",
       "      <td>Female</td>\n",
       "      <td>12</td>\n",
       "      <td>28</td>\n",
       "      <td>20</td>\n",
       "      <td>54.834624</td>\n",
       "      <td>0</td>\n",
       "    </tr>\n",
       "    <tr>\n",
       "      <th>251</th>\n",
       "      <td>i334</td>\n",
       "      <td>Ramicane</td>\n",
       "      <td>Female</td>\n",
       "      <td>8</td>\n",
       "      <td>20</td>\n",
       "      <td>30</td>\n",
       "      <td>39.005554</td>\n",
       "      <td>1</td>\n",
       "    </tr>\n",
       "    <tr>\n",
       "      <th>1892</th>\n",
       "      <td>z969</td>\n",
       "      <td>Naftisol</td>\n",
       "      <td>Male</td>\n",
       "      <td>9</td>\n",
       "      <td>30</td>\n",
       "      <td>45</td>\n",
       "      <td>73.867845</td>\n",
       "      <td>4</td>\n",
       "    </tr>\n",
       "    <tr>\n",
       "      <th>889</th>\n",
       "      <td>g558</td>\n",
       "      <td>Propriva</td>\n",
       "      <td>Male</td>\n",
       "      <td>8</td>\n",
       "      <td>29</td>\n",
       "      <td>20</td>\n",
       "      <td>55.090097</td>\n",
       "      <td>1</td>\n",
       "    </tr>\n",
       "  </tbody>\n",
       "</table>\n",
       "</div>"
      ],
      "text/plain": [
       "     Mouse ID Drug Regimen     Sex  Age_months  Weight (g)  Timepoint  \\\n",
       "652      c282      Placebo    Male          12          27         20   \n",
       "1023     j984     Stelasyn  Female           2          30         45   \n",
       "1127     l661     Ceftamin    Male          18          26         20   \n",
       "644      c264    Zoniferol  Female          11          27         30   \n",
       "796      e476    Infubinol    Male          23          26         25   \n",
       "1674     w167      Placebo  Female           6          28         15   \n",
       "562      a818     Naftisol  Female          12          28         20   \n",
       "251      i334     Ramicane  Female           8          20         30   \n",
       "1892     z969     Naftisol    Male           9          30         45   \n",
       "889      g558     Propriva    Male           8          29         20   \n",
       "\n",
       "      Tumor Volume (mm3)  Metastatic Sites  \n",
       "652            51.950574                 0  \n",
       "1023           70.653832                 1  \n",
       "1127           52.617490                 1  \n",
       "644            57.823916                 2  \n",
       "796            57.408638                 0  \n",
       "1674           53.900489                 0  \n",
       "562            54.834624                 0  \n",
       "251            39.005554                 1  \n",
       "1892           73.867845                 4  \n",
       "889            55.090097                 1  "
      ]
     },
     "execution_count": 1,
     "metadata": {},
     "output_type": "execute_result"
    }
   ],
   "source": [
    "# Dependencies and Setup\n",
    "import matplotlib.pyplot as plt\n",
    "from matplotlib.colors import ListedColormap\n",
    "import pandas as pd\n",
    "import scipy.stats as st\n",
    "\n",
    "# Study data files\n",
    "mouse_metadata_path = \"data/Mouse_metadata.csv\"\n",
    "study_results_path = \"data/Study_results.csv\"\n",
    "\n",
    "# Read the mouse data and the study results\n",
    "mouse_metadata = pd.read_csv(mouse_metadata_path)\n",
    "study_results = pd.read_csv(study_results_path)\n",
    "study_results\n",
    "# Combine the data into a single dataset\n",
    "combined_df= mouse_metadata.merge(study_results, on='Mouse ID', how='inner')\n",
    "\n",
    "# Display the data table for preview\n",
    "combined_df.sample(10)"
   ]
  },
  {
   "cell_type": "code",
   "execution_count": 2,
   "metadata": {},
   "outputs": [
    {
     "name": "stdout",
     "output_type": "stream",
     "text": [
      "Number of Cases = 1893\n",
      "Number of Mice = 249\n"
     ]
    }
   ],
   "source": [
    "# Checking the number of mice.\n",
    "num_cases = len(combined_df)\n",
    "print(f'Number of Cases = {num_cases}')\n",
    "\n",
    "num_mice = len(combined_df['Mouse ID'].unique())\n",
    "print(f'Number of Mice = {num_mice}')"
   ]
  },
  {
   "cell_type": "code",
   "execution_count": 3,
   "metadata": {},
   "outputs": [
    {
     "name": "stdout",
     "output_type": "stream",
     "text": [
      "     Mouse ID\n",
      "924      h246\n",
      "1423     q582\n",
      "788      e291\n",
      "634      c139\n",
      "1049     k483\n",
      "...       ...\n",
      "1549     t451\n",
      "911      g989\n",
      "112      n364\n",
      "1198     m650\n",
      "1058     k510\n",
      "\n",
      "[91 rows x 1 columns]\n"
     ]
    }
   ],
   "source": [
    "# Getting the duplicate mice by ID number that shows up for Mouse ID and Timepoint. \n",
    "dupe_mouse_mask = combined_df.duplicated(subset=['Mouse ID'])\n",
    "\n",
    "dupe_mice = combined_df[dupe_mouse_mask].sample(100)\n",
    "dupe_timepoint = dupe_mice.duplicated(subset=['Timepoint'])\n",
    "mice_duplicates = pd.DataFrame({'Mouse ID': dupe_mice[dupe_timepoint]['Mouse ID']})\n",
    "\n",
    "print(mice_duplicates)\n",
    "\n",
    "#clean_df = combined_df.query(\"Mouse ID in mice_duplicates\")\n"
   ]
  },
  {
   "cell_type": "code",
   "execution_count": 4,
   "metadata": {},
   "outputs": [],
   "source": [
    "# Optional: Get all the data for the duplicate mouse ID. \n",
    "unclean_df = combined_df[combined_df.isin(mice_duplicates)]\n",
    "#unclean_df.to_excel('optional_unclean.xlsx', engine='xlsxwriter') "
   ]
  },
  {
   "cell_type": "code",
   "execution_count": 5,
   "metadata": {},
   "outputs": [],
   "source": [
    "# Create a clean DataFrame by dropping the duplicate mouse by its ID.\n",
    "clean_df = combined_df[~combined_df.isin(mice_duplicates)].dropna()\n",
    "#clean_df.to_excel('output1.xlsx', engine='xlsxwriter') "
   ]
  },
  {
   "cell_type": "code",
   "execution_count": 6,
   "metadata": {},
   "outputs": [
    {
     "name": "stdout",
     "output_type": "stream",
     "text": [
      "Number of Mice that have no Timepoint duplication: 249\n"
     ]
    }
   ],
   "source": [
    "# Checking the number of mice in the clean DataFrame.\n",
    "count_clean_df = len(clean_df['Mouse ID'].unique())\n",
    "print(f'Number of Mice that have no Timepoint duplication: {count_clean_df}')"
   ]
  },
  {
   "cell_type": "markdown",
   "metadata": {},
   "source": [
    "## Summary Statistics"
   ]
  },
  {
   "cell_type": "code",
   "execution_count": 7,
   "metadata": {},
   "outputs": [
    {
     "data": {
      "text/html": [
       "<div>\n",
       "<style scoped>\n",
       "    .dataframe tbody tr th:only-of-type {\n",
       "        vertical-align: middle;\n",
       "    }\n",
       "\n",
       "    .dataframe tbody tr th {\n",
       "        vertical-align: top;\n",
       "    }\n",
       "\n",
       "    .dataframe thead th {\n",
       "        text-align: right;\n",
       "    }\n",
       "</style>\n",
       "<table border=\"1\" class=\"dataframe\">\n",
       "  <thead>\n",
       "    <tr style=\"text-align: right;\">\n",
       "      <th></th>\n",
       "      <th>TumorVol Mean</th>\n",
       "      <th>TumorVol Median</th>\n",
       "      <th>TumorVol Variance</th>\n",
       "      <th>TumorVol StdDev</th>\n",
       "      <th>TumorVol StdErr</th>\n",
       "    </tr>\n",
       "    <tr>\n",
       "      <th>Drug Regimen</th>\n",
       "      <th></th>\n",
       "      <th></th>\n",
       "      <th></th>\n",
       "      <th></th>\n",
       "      <th></th>\n",
       "    </tr>\n",
       "  </thead>\n",
       "  <tbody>\n",
       "    <tr>\n",
       "      <th>Capomulin</th>\n",
       "      <td>40.857832</td>\n",
       "      <td>41.763013</td>\n",
       "      <td>24.268933</td>\n",
       "      <td>4.926351</td>\n",
       "      <td>0.332135</td>\n",
       "    </tr>\n",
       "    <tr>\n",
       "      <th>Ceftamin</th>\n",
       "      <td>52.448754</td>\n",
       "      <td>51.207969</td>\n",
       "      <td>39.912039</td>\n",
       "      <td>6.317598</td>\n",
       "      <td>0.483119</td>\n",
       "    </tr>\n",
       "    <tr>\n",
       "      <th>Infubinol</th>\n",
       "      <td>52.673822</td>\n",
       "      <td>51.532750</td>\n",
       "      <td>43.747634</td>\n",
       "      <td>6.614199</td>\n",
       "      <td>0.510297</td>\n",
       "    </tr>\n",
       "    <tr>\n",
       "      <th>Ketapril</th>\n",
       "      <td>55.170747</td>\n",
       "      <td>53.646168</td>\n",
       "      <td>70.953278</td>\n",
       "      <td>8.423377</td>\n",
       "      <td>0.633140</td>\n",
       "    </tr>\n",
       "    <tr>\n",
       "      <th>Naftisol</th>\n",
       "      <td>54.185938</td>\n",
       "      <td>52.079510</td>\n",
       "      <td>66.026170</td>\n",
       "      <td>8.125649</td>\n",
       "      <td>0.610761</td>\n",
       "    </tr>\n",
       "    <tr>\n",
       "      <th>Placebo</th>\n",
       "      <td>54.088640</td>\n",
       "      <td>52.288934</td>\n",
       "      <td>62.114207</td>\n",
       "      <td>7.881257</td>\n",
       "      <td>0.606251</td>\n",
       "    </tr>\n",
       "    <tr>\n",
       "      <th>Propriva</th>\n",
       "      <td>52.306375</td>\n",
       "      <td>50.446266</td>\n",
       "      <td>44.026658</td>\n",
       "      <td>6.635259</td>\n",
       "      <td>0.538191</td>\n",
       "    </tr>\n",
       "    <tr>\n",
       "      <th>Ramicane</th>\n",
       "      <td>40.217217</td>\n",
       "      <td>40.668343</td>\n",
       "      <td>23.266572</td>\n",
       "      <td>4.823544</td>\n",
       "      <td>0.325945</td>\n",
       "    </tr>\n",
       "    <tr>\n",
       "      <th>Stelasyn</th>\n",
       "      <td>54.180630</td>\n",
       "      <td>52.331228</td>\n",
       "      <td>60.093303</td>\n",
       "      <td>7.751987</td>\n",
       "      <td>0.591083</td>\n",
       "    </tr>\n",
       "    <tr>\n",
       "      <th>Zoniferol</th>\n",
       "      <td>53.107091</td>\n",
       "      <td>51.447118</td>\n",
       "      <td>47.870660</td>\n",
       "      <td>6.918863</td>\n",
       "      <td>0.520054</td>\n",
       "    </tr>\n",
       "  </tbody>\n",
       "</table>\n",
       "</div>"
      ],
      "text/plain": [
       "              TumorVol Mean  TumorVol Median  TumorVol Variance  \\\n",
       "Drug Regimen                                                      \n",
       "Capomulin         40.857832        41.763013          24.268933   \n",
       "Ceftamin          52.448754        51.207969          39.912039   \n",
       "Infubinol         52.673822        51.532750          43.747634   \n",
       "Ketapril          55.170747        53.646168          70.953278   \n",
       "Naftisol          54.185938        52.079510          66.026170   \n",
       "Placebo           54.088640        52.288934          62.114207   \n",
       "Propriva          52.306375        50.446266          44.026658   \n",
       "Ramicane          40.217217        40.668343          23.266572   \n",
       "Stelasyn          54.180630        52.331228          60.093303   \n",
       "Zoniferol         53.107091        51.447118          47.870660   \n",
       "\n",
       "              TumorVol StdDev  TumorVol StdErr  \n",
       "Drug Regimen                                    \n",
       "Capomulin            4.926351         0.332135  \n",
       "Ceftamin             6.317598         0.483119  \n",
       "Infubinol            6.614199         0.510297  \n",
       "Ketapril             8.423377         0.633140  \n",
       "Naftisol             8.125649         0.610761  \n",
       "Placebo              7.881257         0.606251  \n",
       "Propriva             6.635259         0.538191  \n",
       "Ramicane             4.823544         0.325945  \n",
       "Stelasyn             7.751987         0.591083  \n",
       "Zoniferol            6.918863         0.520054  "
      ]
     },
     "execution_count": 7,
     "metadata": {},
     "output_type": "execute_result"
    }
   ],
   "source": [
    "# Generate a summary statistics table of mean, median, variance, standard deviation, and SEM of the tumor volume for each regimen\n",
    "# Use groupby and summary statistical methods to calculate the following properties of each drug regimen: \n",
    "\n",
    "# mean, median, variance, standard deviation, and SEM of the tumor volume. \n",
    "grouped_clean = clean_df.groupby(by=['Drug Regimen'])\n",
    "clean_df_mean = grouped_clean.mean()\n",
    "clean_df_median = grouped_clean.median()\n",
    "clean_df_var = grouped_clean.var()\n",
    "clean_df_stdev = grouped_clean.std()\n",
    "clean_df_sem = grouped_clean.sem()\n",
    "\n",
    "# Assemble the resulting series into a single summary dataframe.\n",
    "summary_stats_df = pd.DataFrame({'TumorVol Mean':clean_df_mean['Tumor Volume (mm3)'],\n",
    "                                'TumorVol Median':clean_df_median['Tumor Volume (mm3)'],\n",
    "                                'TumorVol Variance':clean_df_var['Tumor Volume (mm3)'],\n",
    "                                 'TumorVol StdDev':clean_df_stdev['Tumor Volume (mm3)'],\n",
    "                                 'TumorVol StdErr':clean_df_sem['Tumor Volume (mm3)']})\n",
    "\n",
    "\n",
    "summary_stats_df\n"
   ]
  },
  {
   "cell_type": "code",
   "execution_count": 8,
   "metadata": {},
   "outputs": [
    {
     "data": {
      "text/html": [
       "<div>\n",
       "<style scoped>\n",
       "    .dataframe tbody tr th:only-of-type {\n",
       "        vertical-align: middle;\n",
       "    }\n",
       "\n",
       "    .dataframe tbody tr th {\n",
       "        vertical-align: top;\n",
       "    }\n",
       "\n",
       "    .dataframe thead th {\n",
       "        text-align: right;\n",
       "    }\n",
       "</style>\n",
       "<table border=\"1\" class=\"dataframe\">\n",
       "  <thead>\n",
       "    <tr style=\"text-align: right;\">\n",
       "      <th></th>\n",
       "      <th>mean</th>\n",
       "      <th>median</th>\n",
       "      <th>var</th>\n",
       "      <th>std</th>\n",
       "      <th>sem</th>\n",
       "    </tr>\n",
       "    <tr>\n",
       "      <th>Drug Regimen</th>\n",
       "      <th></th>\n",
       "      <th></th>\n",
       "      <th></th>\n",
       "      <th></th>\n",
       "      <th></th>\n",
       "    </tr>\n",
       "  </thead>\n",
       "  <tbody>\n",
       "    <tr>\n",
       "      <th>Capomulin</th>\n",
       "      <td>40.857832</td>\n",
       "      <td>41.763013</td>\n",
       "      <td>24.268933</td>\n",
       "      <td>4.926351</td>\n",
       "      <td>0.332135</td>\n",
       "    </tr>\n",
       "    <tr>\n",
       "      <th>Ceftamin</th>\n",
       "      <td>52.448754</td>\n",
       "      <td>51.207969</td>\n",
       "      <td>39.912039</td>\n",
       "      <td>6.317598</td>\n",
       "      <td>0.483119</td>\n",
       "    </tr>\n",
       "    <tr>\n",
       "      <th>Infubinol</th>\n",
       "      <td>52.673822</td>\n",
       "      <td>51.532750</td>\n",
       "      <td>43.747634</td>\n",
       "      <td>6.614199</td>\n",
       "      <td>0.510297</td>\n",
       "    </tr>\n",
       "    <tr>\n",
       "      <th>Ketapril</th>\n",
       "      <td>55.170747</td>\n",
       "      <td>53.646168</td>\n",
       "      <td>70.953278</td>\n",
       "      <td>8.423377</td>\n",
       "      <td>0.633140</td>\n",
       "    </tr>\n",
       "    <tr>\n",
       "      <th>Naftisol</th>\n",
       "      <td>54.185938</td>\n",
       "      <td>52.079510</td>\n",
       "      <td>66.026170</td>\n",
       "      <td>8.125649</td>\n",
       "      <td>0.610761</td>\n",
       "    </tr>\n",
       "    <tr>\n",
       "      <th>Placebo</th>\n",
       "      <td>54.088640</td>\n",
       "      <td>52.288934</td>\n",
       "      <td>62.114207</td>\n",
       "      <td>7.881257</td>\n",
       "      <td>0.606251</td>\n",
       "    </tr>\n",
       "    <tr>\n",
       "      <th>Propriva</th>\n",
       "      <td>52.306375</td>\n",
       "      <td>50.446266</td>\n",
       "      <td>44.026658</td>\n",
       "      <td>6.635259</td>\n",
       "      <td>0.538191</td>\n",
       "    </tr>\n",
       "    <tr>\n",
       "      <th>Ramicane</th>\n",
       "      <td>40.217217</td>\n",
       "      <td>40.668343</td>\n",
       "      <td>23.266572</td>\n",
       "      <td>4.823544</td>\n",
       "      <td>0.325945</td>\n",
       "    </tr>\n",
       "    <tr>\n",
       "      <th>Stelasyn</th>\n",
       "      <td>54.180630</td>\n",
       "      <td>52.331228</td>\n",
       "      <td>60.093303</td>\n",
       "      <td>7.751987</td>\n",
       "      <td>0.591083</td>\n",
       "    </tr>\n",
       "    <tr>\n",
       "      <th>Zoniferol</th>\n",
       "      <td>53.107091</td>\n",
       "      <td>51.447118</td>\n",
       "      <td>47.870660</td>\n",
       "      <td>6.918863</td>\n",
       "      <td>0.520054</td>\n",
       "    </tr>\n",
       "  </tbody>\n",
       "</table>\n",
       "</div>"
      ],
      "text/plain": [
       "                   mean     median        var       std       sem\n",
       "Drug Regimen                                                     \n",
       "Capomulin     40.857832  41.763013  24.268933  4.926351  0.332135\n",
       "Ceftamin      52.448754  51.207969  39.912039  6.317598  0.483119\n",
       "Infubinol     52.673822  51.532750  43.747634  6.614199  0.510297\n",
       "Ketapril      55.170747  53.646168  70.953278  8.423377  0.633140\n",
       "Naftisol      54.185938  52.079510  66.026170  8.125649  0.610761\n",
       "Placebo       54.088640  52.288934  62.114207  7.881257  0.606251\n",
       "Propriva      52.306375  50.446266  44.026658  6.635259  0.538191\n",
       "Ramicane      40.217217  40.668343  23.266572  4.823544  0.325945\n",
       "Stelasyn      54.180630  52.331228  60.093303  7.751987  0.591083\n",
       "Zoniferol     53.107091  51.447118  47.870660  6.918863  0.520054"
      ]
     },
     "execution_count": 8,
     "metadata": {},
     "output_type": "execute_result"
    }
   ],
   "source": [
    "# Generate a summary statistics table of mean, median, variance, standard deviation, and SEM of the tumor volume for each regimen\n",
    "df_grouped = clean_df.groupby(by='Drug Regimen')\n",
    "\n",
    "# Using the aggregation method, produce the same summary statistics in a single line\n",
    "df_grouped['Tumor Volume (mm3)'].agg(['mean','median','var','std','sem'])\n"
   ]
  },
  {
   "cell_type": "markdown",
   "metadata": {},
   "source": [
    "## Bar and Pie Charts"
   ]
  },
  {
   "cell_type": "code",
   "execution_count": 9,
   "metadata": {},
   "outputs": [
    {
     "data": {
      "text/plain": [
       "<matplotlib.axes._subplots.AxesSubplot at 0x7fdae54e9c10>"
      ]
     },
     "execution_count": 9,
     "metadata": {},
     "output_type": "execute_result"
    },
    {
     "data": {
      "image/png": "[encoded data removed]",
      "text/plain": [
       "<Figure size 432x288 with 1 Axes>"
      ]
     },
     "metadata": {
      "needs_background": "light"
     },
     "output_type": "display_data"
    }
   ],
   "source": [
    "# Generate a bar plot showing the total number of measurements taken on each drug regimen using pandas.\n",
    "cmap = ListedColormap(['#e50000'])\n",
    "grouped_count_byRegimen = grouped_clean['Mouse ID'].count()\n",
    "\n",
    "count_gph = grouped_count_byRegimen.plot.bar(x=0,y=1,colormap=cmap)\n",
    "\n",
    "count_gph.set_xlabel('Regimen')\n",
    "count_gph.set_ylabel('Number of Measurements Taken')\n",
    "count_gph.set_title('Count of Measurements Taken per Regimen')\n",
    "\n",
    "count_gph.set_ylim(0,240)\n",
    "count_gph.set_xlim(-.75,9.75)\n",
    "\n",
    "count_gph"
   ]
  },
  {
   "cell_type": "code",
   "execution_count": 10,
   "metadata": {},
   "outputs": [
    {
     "data": {
      "image/png": "[encoded data removed]",
      "text/plain": [
       "<Figure size 720x360 with 1 Axes>"
      ]
     },
     "metadata": {
      "needs_background": "light"
     },
     "output_type": "display_data"
    }
   ],
   "source": [
    "# Generate a bar plot showing the total number of measurements taken on each drug regimen using pyplot.\n",
    "\n",
    "fig = plt.figure(figsize = (10, 5))\n",
    "x_values = grouped_count_byRegimen.index.tolist()\n",
    "y_values = grouped_count_byRegimen\n",
    "plt.bar(x_values,y_values, color ='blue', width = 0.4)\n",
    "  \n",
    "plt.xlabel(\"Regimen\") \n",
    "plt.ylabel(\"Number of Measurements Taken\") \n",
    "plt.title(\"Count of Measurements Taken per Regimen\") \n",
    "plt.show() "
   ]
  },
  {
   "cell_type": "code",
   "execution_count": 11,
   "metadata": {},
   "outputs": [
    {
     "data": {
      "text/plain": [
       "Text(0.5, 1.0, 'Number of Mice per Gender')"
      ]
     },
     "execution_count": 11,
     "metadata": {},
     "output_type": "execute_result"
    },
    {
     "data": {
      "image/png": "[encoded data removed]",
      "text/plain": [
       "<Figure size 720x720 with 1 Axes>"
      ]
     },
     "metadata": {},
     "output_type": "display_data"
    }
   ],
   "source": [
    "# Generate a pie plot showing the distribution of female versus male mice using pandas\n",
    "grouped_sex = clean_df.groupby(by=['Sex']).count()\n",
    "grouped_sex_df = grouped_sex['Mouse ID']\n",
    "\n",
    "plot = grouped_sex_df.plot.pie(figsize=(10, 10))\n",
    "plot.set_xlabel('Sex')\n",
    "plot.set_ylabel('Count of Mice')\n",
    "plot.set_title('Number of Mice per Gender')\n"
   ]
  },
  {
   "cell_type": "code",
   "execution_count": 12,
   "metadata": {},
   "outputs": [
    {
     "data": {
      "image/png": "[encoded data removed]",
      "text/plain": [
       "<Figure size 720x720 with 1 Axes>"
      ]
     },
     "metadata": {},
     "output_type": "display_data"
    }
   ],
   "source": [
    "# Generate a pie plot showing the distribution of female versus male mice using pyplot\n",
    "x_values = grouped_sex_df.index.tolist()\n",
    "y_values = grouped_sex_df\n",
    "\n",
    "fig = plt.figure(figsize=(10, 10)) \n",
    "plt.pie(y_values, labels=x_values)\n",
    "\n",
    "plt.xlabel(\"Sex\") \n",
    "plt.ylabel(\"Count of Mice\") \n",
    "plt.title(\"Number of Mice per Gender\") \n",
    "plt.show() "
   ]
  },
  {
   "cell_type": "markdown",
   "metadata": {},
   "source": [
    "## Quartiles, Outliers and Boxplots"
   ]
  },
  {
   "cell_type": "code",
   "execution_count": 123,
   "metadata": {},
   "outputs": [
    {
     "data": {
      "text/html": [
       "<div>\n",
       "<style scoped>\n",
       "    .dataframe tbody tr th:only-of-type {\n",
       "        vertical-align: middle;\n",
       "    }\n",
       "\n",
       "    .dataframe tbody tr th {\n",
       "        vertical-align: top;\n",
       "    }\n",
       "\n",
       "    .dataframe thead th {\n",
       "        text-align: right;\n",
       "    }\n",
       "</style>\n",
       "<table border=\"1\" class=\"dataframe\">\n",
       "  <thead>\n",
       "    <tr style=\"text-align: right;\">\n",
       "      <th></th>\n",
       "      <th>Mouse ID</th>\n",
       "      <th>Drug Regimen</th>\n",
       "      <th>Final Tumor Vol</th>\n",
       "      <th>Timepoint</th>\n",
       "      <th>Weight (g)</th>\n",
       "    </tr>\n",
       "  </thead>\n",
       "  <tbody>\n",
       "    <tr>\n",
       "      <th>9</th>\n",
       "      <td>k403</td>\n",
       "      <td>Ramicane</td>\n",
       "      <td>22.050126</td>\n",
       "      <td>45</td>\n",
       "      <td>16</td>\n",
       "    </tr>\n",
       "    <tr>\n",
       "      <th>19</th>\n",
       "      <td>s185</td>\n",
       "      <td>Capomulin</td>\n",
       "      <td>23.343598</td>\n",
       "      <td>45</td>\n",
       "      <td>17</td>\n",
       "    </tr>\n",
       "    <tr>\n",
       "      <th>29</th>\n",
       "      <td>x401</td>\n",
       "      <td>Capomulin</td>\n",
       "      <td>28.484033</td>\n",
       "      <td>45</td>\n",
       "      <td>15</td>\n",
       "    </tr>\n",
       "    <tr>\n",
       "      <th>37</th>\n",
       "      <td>m601</td>\n",
       "      <td>Capomulin</td>\n",
       "      <td>30.834357</td>\n",
       "      <td>35</td>\n",
       "      <td>17</td>\n",
       "    </tr>\n",
       "    <tr>\n",
       "      <th>49</th>\n",
       "      <td>g791</td>\n",
       "      <td>Ramicane</td>\n",
       "      <td>29.128472</td>\n",
       "      <td>45</td>\n",
       "      <td>16</td>\n",
       "    </tr>\n",
       "    <tr>\n",
       "      <th>...</th>\n",
       "      <td>...</td>\n",
       "      <td>...</td>\n",
       "      <td>...</td>\n",
       "      <td>...</td>\n",
       "      <td>...</td>\n",
       "    </tr>\n",
       "    <tr>\n",
       "      <th>1797</th>\n",
       "      <td>x822</td>\n",
       "      <td>Ceftamin</td>\n",
       "      <td>61.386660</td>\n",
       "      <td>45</td>\n",
       "      <td>29</td>\n",
       "    </tr>\n",
       "    <tr>\n",
       "      <th>1813</th>\n",
       "      <td>y163</td>\n",
       "      <td>Infubinol</td>\n",
       "      <td>67.685569</td>\n",
       "      <td>45</td>\n",
       "      <td>27</td>\n",
       "    </tr>\n",
       "    <tr>\n",
       "      <th>1845</th>\n",
       "      <td>y769</td>\n",
       "      <td>Ceftamin</td>\n",
       "      <td>68.594745</td>\n",
       "      <td>45</td>\n",
       "      <td>27</td>\n",
       "    </tr>\n",
       "    <tr>\n",
       "      <th>1855</th>\n",
       "      <td>y865</td>\n",
       "      <td>Ceftamin</td>\n",
       "      <td>64.729837</td>\n",
       "      <td>45</td>\n",
       "      <td>26</td>\n",
       "    </tr>\n",
       "    <tr>\n",
       "      <th>1872</th>\n",
       "      <td>z581</td>\n",
       "      <td>Infubinol</td>\n",
       "      <td>62.754451</td>\n",
       "      <td>45</td>\n",
       "      <td>25</td>\n",
       "    </tr>\n",
       "  </tbody>\n",
       "</table>\n",
       "<p>100 rows × 5 columns</p>\n",
       "</div>"
      ],
      "text/plain": [
       "     Mouse ID Drug Regimen  Final Tumor Vol  Timepoint  Weight (g)\n",
       "9        k403     Ramicane        22.050126         45          16\n",
       "19       s185    Capomulin        23.343598         45          17\n",
       "29       x401    Capomulin        28.484033         45          15\n",
       "37       m601    Capomulin        30.834357         35          17\n",
       "49       g791     Ramicane        29.128472         45          16\n",
       "...       ...          ...              ...        ...         ...\n",
       "1797     x822     Ceftamin        61.386660         45          29\n",
       "1813     y163    Infubinol        67.685569         45          27\n",
       "1845     y769     Ceftamin        68.594745         45          27\n",
       "1855     y865     Ceftamin        64.729837         45          26\n",
       "1872     z581    Infubinol        62.754451         45          25\n",
       "\n",
       "[100 rows x 5 columns]"
      ]
     },
     "execution_count": 123,
     "metadata": {},
     "output_type": "execute_result"
    }
   ],
   "source": [
    "# Calculate the final tumor volume of each mouse across four of the treatment regimens:  \n",
    "# Capomulin, Ramicane, Infubinol, and Ceftamin\n",
    "\n",
    "filtered_df = clean_df.loc[clean_df['Drug Regimen'].isin(['Capomulin', 'Ramicane', 'Infubinol', 'Ceftamin'])]\n",
    "\n",
    "# Start by getting the last (greatest) timepoint for each mouse\n",
    "# Merge this group df with the original dataframe to get the tumor volume at the last timepoint\n",
    "\n",
    "max_timepoint_df = filtered_df[filtered_df['Timepoint'] == filtered_df.groupby('Mouse ID')['Timepoint'].transform('max')]\n",
    "\n",
    "max_timepoint_df = max_timepoint_df[['Mouse ID','Drug Regimen','Tumor Volume (mm3)','Timepoint','Weight (g)']]\n",
    "finalvol_df = max_timepoint_df.rename(columns={'Tumor Volume (mm3)': 'Final Tumor Vol'})\n",
    "finalvol_df"
   ]
  },
  {
   "cell_type": "code",
   "execution_count": 124,
   "metadata": {},
   "outputs": [
    {
     "name": "stdout",
     "output_type": "stream",
     "text": [
      "22.647090805000005\n",
      "56.3235454025\n",
      "33.6764545975\n"
     ]
    }
   ],
   "source": [
    "# Put treatments into a list for for loop (and later for plot labels)\n",
    "\n",
    "# Create empty list to fill with tumor vol data (for plotting)\n",
    "tumor_vols = []\n",
    "\n",
    "# Calculate the IQR and quantitatively determine if there are any potential outliers. \n",
    "data = finalvol_df['Final Tumor Vol']\n",
    "IQR = st.iqr(data, interpolation = 'midpoint') \n",
    "data_median = data.median()  \n",
    "\n",
    "upper_bound = data_median + (.5*IQR)\n",
    "lower_bound = data_median - (.5*IQR)\n",
    "\n",
    "print(IQR)\n",
    "print(upper_bound)\n",
    "print(lower_bound)\n",
    "\n",
    "# Locate the rows which contain mice on each drug and get the tumor volumes\n",
    "# add subset \n",
    "# Determine outliers using upper and lower bounds\n",
    "outliers=[]\n",
    "\n",
    "upper_df = finalvol_df.loc[(finalvol_df[\"Final Tumor Vol\"] > upper_bound)]\n",
    "lower_df = finalvol_df.loc[(finalvol_df[\"Final Tumor Vol\"] < lower_bound)]\n",
    "outliers.append(upper_df)\n",
    "outliers.append(lower_df)\n",
    "\n",
    "\n"
   ]
  },
  {
   "cell_type": "code",
   "execution_count": 125,
   "metadata": {},
   "outputs": [
    {
     "data": {
      "image/png": "[encoded data removed]",
      "text/plain": [
       "<Figure size 720x504 with 1 Axes>"
      ]
     },
     "metadata": {
      "needs_background": "light"
     },
     "output_type": "display_data"
    }
   ],
   "source": [
    "# Generate a box plot of the final tumor volume of each mouse across four regimens of interest\n",
    "\n",
    "fig = plt.figure(figsize =(10, 7)) \n",
    "\n",
    "capomulin_vol = finalvol_df.loc[finalvol_df['Drug Regimen'] == 'Capomulin']['Final Tumor Vol']\n",
    "ramicane_vol = finalvol_df.loc[finalvol_df['Drug Regimen'] == 'Ramicane']['Final Tumor Vol']\n",
    "ceftamin_vol = finalvol_df.loc[finalvol_df['Drug Regimen'] == 'Ceftamin']['Final Tumor Vol']\n",
    "infubinol_vol = finalvol_df.loc[finalvol_df['Drug Regimen'] == 'Infubinol']['Final Tumor Vol']\n",
    "\n",
    "# Creating plot \n",
    "data_to_plot = [capomulin_vol,ramicane_vol,ceftamin_vol,infubinol_vol]\n",
    "box_plot = plt.boxplot(data_to_plot) \n",
    "xticks = ['Capomulin', 'Ramicane', 'Ceftamin', 'Infubinol']\n",
    "plt.xticks([1,2,3,4],xticks)\n",
    "# show plot \n",
    "plt.title('Final Tumor Volume within Major Regimens')\n",
    "plt.xlabel('Regimens')\n",
    "plt.ylabel('Final Tumor Volume')\n",
    "\n",
    "plt.show()"
   ]
  },
  {
   "cell_type": "markdown",
   "metadata": {},
   "source": [
    "## Line and Scatter Plots"
   ]
  },
  {
   "cell_type": "code",
   "execution_count": 127,
   "metadata": {},
   "outputs": [
    {
     "name": "stdout",
     "output_type": "stream",
     "text": [
      "19      45\n",
      "29      45\n",
      "37      35\n",
      "63      15\n",
      "104     45\n",
      "124     45\n",
      "134     45\n",
      "144     45\n",
      "164     45\n",
      "204     45\n",
      "224     45\n",
      "244     45\n",
      "282     45\n",
      "299     45\n",
      "309     45\n",
      "317     35\n",
      "337     45\n",
      "340     10\n",
      "350     45\n",
      "360     45\n",
      "370     45\n",
      "380     45\n",
      "389     40\n",
      "440     45\n",
      "1455    15\n",
      "Name: Timepoint, dtype: int64\n"
     ]
    },
    {
     "data": {
      "image/png": "[encoded data removed]",
      "text/plain": [
       "<Figure size 432x288 with 1 Axes>"
      ]
     },
     "metadata": {
      "needs_background": "light"
     },
     "output_type": "display_data"
    }
   ],
   "source": [
    "# Generate a line plot of tumor volume vs. time point for a mouse treated with Capomulin\n",
    "x_value = finalvol_df.loc[finalvol_df['Drug Regimen'] == 'Capomulin']['Timepoint']\n",
    "print(x_value)\n",
    "y_value = finalvol_df.loc[finalvol_df['Drug Regimen'] == 'Capomulin']['Final Tumor Vol']\n",
    "\n",
    "plt.plot(x_value,y_value)\n",
    "plt.title('Final Tumor Volume vs Timepoint')\n",
    "plt.xlabel('Timepoint')\n",
    "plt.ylabel('Final Tumor Volume')\n",
    "plt.show()"
   ]
  },
  {
   "cell_type": "code",
   "execution_count": 17,
   "metadata": {},
   "outputs": [],
   "source": [
    "# Generate a scatter plot of average tumor volume vs. mouse weight for the Capomulin regimen\n"
   ]
  },
  {
   "cell_type": "markdown",
   "metadata": {},
   "source": [
    "## Correlation and Regression"
   ]
  },
  {
   "cell_type": "code",
   "execution_count": 18,
   "metadata": {},
   "outputs": [],
   "source": [
    "# Calculate the correlation coefficient and linear regression model \n",
    "# for mouse weight and average tumor volume for the Capomulin regimen\n"
   ]
  },
  {
   "cell_type": "code",
   "execution_count": null,
   "metadata": {},
   "outputs": [],
   "source": []
  }
 ],
 "metadata": {
  "anaconda-cloud": {},
  "kernelspec": {
   "display_name": "Python 3",
   "language": "python",
   "name": "python3"
  },
  "language_info": {
   "codemirror_mode": {
    "name": "ipython",
    "version": 3
   },
   "file_extension": ".py",
   "mimetype": "text/x-python",
   "name": "python",
   "nbconvert_exporter": "python",
   "pygments_lexer": "ipython3",
   "version": "3.8.3"
  }
 },
 "nbformat": 4,
 "nbformat_minor": 4
}
