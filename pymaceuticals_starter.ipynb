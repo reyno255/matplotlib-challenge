{
 "cells": [
  {
   "cell_type": "markdown",
   "metadata": {},
   "source": [
    "## Observations and Insights "
   ]
  },
  {
   "cell_type": "markdown",
   "metadata": {},
   "source": []
  },
  {
   "cell_type": "code",
   "execution_count": 1,
   "metadata": {},
   "outputs": [
    {
     "data": {
      "text/html": [
       "<div>\n",
       "<style scoped>\n",
       "    .dataframe tbody tr th:only-of-type {\n",
       "        vertical-align: middle;\n",
       "    }\n",
       "\n",
       "    .dataframe tbody tr th {\n",
       "        vertical-align: top;\n",
       "    }\n",
       "\n",
       "    .dataframe thead th {\n",
       "        text-align: right;\n",
       "    }\n",
       "</style>\n",
       "<table border=\"1\" class=\"dataframe\">\n",
       "  <thead>\n",
       "    <tr style=\"text-align: right;\">\n",
       "      <th></th>\n",
       "      <th>Mouse ID</th>\n",
       "      <th>Drug Regimen</th>\n",
       "      <th>Sex</th>\n",
       "      <th>Age_months</th>\n",
       "      <th>Weight (g)</th>\n",
       "      <th>Timepoint</th>\n",
       "      <th>Tumor Volume (mm3)</th>\n",
       "      <th>Metastatic Sites</th>\n",
       "    </tr>\n",
       "  </thead>\n",
       "  <tbody>\n",
       "    <tr>\n",
       "      <th>292</th>\n",
       "      <td>b742</td>\n",
       "      <td>Capomulin</td>\n",
       "      <td>Male</td>\n",
       "      <td>7</td>\n",
       "      <td>21</td>\n",
       "      <td>10</td>\n",
       "      <td>41.999228</td>\n",
       "      <td>0</td>\n",
       "    </tr>\n",
       "    <tr>\n",
       "      <th>417</th>\n",
       "      <td>q597</td>\n",
       "      <td>Ramicane</td>\n",
       "      <td>Male</td>\n",
       "      <td>20</td>\n",
       "      <td>25</td>\n",
       "      <td>30</td>\n",
       "      <td>43.339161</td>\n",
       "      <td>1</td>\n",
       "    </tr>\n",
       "    <tr>\n",
       "      <th>1796</th>\n",
       "      <td>x822</td>\n",
       "      <td>Ceftamin</td>\n",
       "      <td>Male</td>\n",
       "      <td>3</td>\n",
       "      <td>29</td>\n",
       "      <td>40</td>\n",
       "      <td>59.555685</td>\n",
       "      <td>2</td>\n",
       "    </tr>\n",
       "    <tr>\n",
       "      <th>793</th>\n",
       "      <td>e476</td>\n",
       "      <td>Infubinol</td>\n",
       "      <td>Male</td>\n",
       "      <td>23</td>\n",
       "      <td>26</td>\n",
       "      <td>10</td>\n",
       "      <td>49.431685</td>\n",
       "      <td>0</td>\n",
       "    </tr>\n",
       "    <tr>\n",
       "      <th>1875</th>\n",
       "      <td>z795</td>\n",
       "      <td>Naftisol</td>\n",
       "      <td>Female</td>\n",
       "      <td>13</td>\n",
       "      <td>29</td>\n",
       "      <td>10</td>\n",
       "      <td>48.030804</td>\n",
       "      <td>0</td>\n",
       "    </tr>\n",
       "    <tr>\n",
       "      <th>589</th>\n",
       "      <td>b313</td>\n",
       "      <td>Zoniferol</td>\n",
       "      <td>Male</td>\n",
       "      <td>12</td>\n",
       "      <td>27</td>\n",
       "      <td>5</td>\n",
       "      <td>47.154433</td>\n",
       "      <td>0</td>\n",
       "    </tr>\n",
       "    <tr>\n",
       "      <th>972</th>\n",
       "      <td>i901</td>\n",
       "      <td>Stelasyn</td>\n",
       "      <td>Male</td>\n",
       "      <td>23</td>\n",
       "      <td>29</td>\n",
       "      <td>15</td>\n",
       "      <td>51.419642</td>\n",
       "      <td>0</td>\n",
       "    </tr>\n",
       "    <tr>\n",
       "      <th>1149</th>\n",
       "      <td>l725</td>\n",
       "      <td>Naftisol</td>\n",
       "      <td>Female</td>\n",
       "      <td>8</td>\n",
       "      <td>26</td>\n",
       "      <td>30</td>\n",
       "      <td>66.599545</td>\n",
       "      <td>3</td>\n",
       "    </tr>\n",
       "    <tr>\n",
       "      <th>928</th>\n",
       "      <td>h246</td>\n",
       "      <td>Ketapril</td>\n",
       "      <td>Male</td>\n",
       "      <td>13</td>\n",
       "      <td>30</td>\n",
       "      <td>35</td>\n",
       "      <td>67.211270</td>\n",
       "      <td>2</td>\n",
       "    </tr>\n",
       "    <tr>\n",
       "      <th>1104</th>\n",
       "      <td>l471</td>\n",
       "      <td>Ceftamin</td>\n",
       "      <td>Female</td>\n",
       "      <td>7</td>\n",
       "      <td>28</td>\n",
       "      <td>5</td>\n",
       "      <td>46.251872</td>\n",
       "      <td>0</td>\n",
       "    </tr>\n",
       "  </tbody>\n",
       "</table>\n",
       "</div>"
      ],
      "text/plain": [
       "     Mouse ID Drug Regimen     Sex  Age_months  Weight (g)  Timepoint  \\\n",
       "292      b742    Capomulin    Male           7          21         10   \n",
       "417      q597     Ramicane    Male          20          25         30   \n",
       "1796     x822     Ceftamin    Male           3          29         40   \n",
       "793      e476    Infubinol    Male          23          26         10   \n",
       "1875     z795     Naftisol  Female          13          29         10   \n",
       "589      b313    Zoniferol    Male          12          27          5   \n",
       "972      i901     Stelasyn    Male          23          29         15   \n",
       "1149     l725     Naftisol  Female           8          26         30   \n",
       "928      h246     Ketapril    Male          13          30         35   \n",
       "1104     l471     Ceftamin  Female           7          28          5   \n",
       "\n",
       "      Tumor Volume (mm3)  Metastatic Sites  \n",
       "292            41.999228                 0  \n",
       "417            43.339161                 1  \n",
       "1796           59.555685                 2  \n",
       "793            49.431685                 0  \n",
       "1875           48.030804                 0  \n",
       "589            47.154433                 0  \n",
       "972            51.419642                 0  \n",
       "1149           66.599545                 3  \n",
       "928            67.211270                 2  \n",
       "1104           46.251872                 0  "
      ]
     },
     "execution_count": 1,
     "metadata": {},
     "output_type": "execute_result"
    }
   ],
   "source": [
    "# Dependencies and Setup\n",
    "import matplotlib.pyplot as plt\n",
    "import pandas as pd\n",
    "import scipy.stats as st\n",
    "\n",
    "# Study data files\n",
    "mouse_metadata_path = \"data/Mouse_metadata.csv\"\n",
    "study_results_path = \"data/Study_results.csv\"\n",
    "\n",
    "# Read the mouse data and the study results\n",
    "mouse_metadata = pd.read_csv(mouse_metadata_path)\n",
    "study_results = pd.read_csv(study_results_path)\n",
    "study_results\n",
    "# Combine the data into a single dataset\n",
    "combined_df= mouse_metadata.merge(study_results, on='Mouse ID', how='inner')\n",
    "\n",
    "# Display the data table for preview\n",
    "combined_df.sample(10)"
   ]
  },
  {
   "cell_type": "code",
   "execution_count": 2,
   "metadata": {},
   "outputs": [
    {
     "name": "stdout",
     "output_type": "stream",
     "text": [
      "Number of Cases = 1893\n",
      "Number of Mice = 249\n"
     ]
    }
   ],
   "source": [
    "# Checking the number of mice.\n",
    "num_cases = len(combined_df)\n",
    "print(f'Number of Cases = {num_cases}')\n",
    "\n",
    "num_mice = len(combined_df['Mouse ID'].unique())\n",
    "print(f'Number of Mice = {num_mice}')"
   ]
  },
  {
   "cell_type": "code",
   "execution_count": 3,
   "metadata": {},
   "outputs": [
    {
     "name": "stdout",
     "output_type": "stream",
     "text": [
      "     Mouse ID\n",
      "311      j246\n",
      "525      a577\n",
      "1033     k210\n",
      "1604     v289\n",
      "749      c927\n",
      "...       ...\n",
      "1532     t198\n",
      "813      f129\n",
      "620      b879\n",
      "773      e213\n",
      "768      e213\n",
      "\n",
      "[91 rows x 1 columns]\n"
     ]
    }
   ],
   "source": [
    "# Getting the duplicate mice by ID number that shows up for Mouse ID and Timepoint. \n",
    "dupe_mouse_mask = combined_df.duplicated(subset=['Mouse ID'])\n",
    "\n",
    "dupe_mice = combined_df[dupe_mouse_mask].sample(100)\n",
    "dupe_timepoint = dupe_mice.duplicated(subset=['Timepoint'])\n",
    "mice_duplicates = pd.DataFrame({'Mouse ID': dupe_mice[dupe_timepoint]['Mouse ID']})\n",
    "\n",
    "print(mice_duplicates)\n",
    "\n",
    "#clean_df = combined_df.query(\"Mouse ID in mice_duplicates\")\n"
   ]
  },
  {
   "cell_type": "code",
   "execution_count": 19,
   "metadata": {},
   "outputs": [],
   "source": [
    "# Optional: Get all the data for the duplicate mouse ID. \n",
    "unclean_df = combined_df[combined_df.isin(mice_duplicates)]\n",
    "unclean_df.to_excel('optional_unclean.xlsx', engine='xlsxwriter') "
   ]
  },
  {
   "cell_type": "code",
   "execution_count": 5,
   "metadata": {},
   "outputs": [],
   "source": [
    "# Create a clean DataFrame by dropping the duplicate mouse by its ID.\n",
    "clean_df = combined_df[~combined_df.isin(mice_duplicates)].dropna()\n",
    "clean_df.to_excel('output1.xlsx', engine='xlsxwriter') "
   ]
  },
  {
   "cell_type": "code",
   "execution_count": 6,
   "metadata": {},
   "outputs": [
    {
     "name": "stdout",
     "output_type": "stream",
     "text": [
      "Number of Mice that have no Timepoint duplication: 249\n"
     ]
    }
   ],
   "source": [
    "# Checking the number of mice in the clean DataFrame.\n",
    "count_clean_df = len(clean_df['Mouse ID'].unique())\n",
    "print(f'Number of Mice that have no Timepoint duplication: {count_clean_df}')"
   ]
  },
  {
   "cell_type": "markdown",
   "metadata": {},
   "source": [
    "## Summary Statistics"
   ]
  },
  {
   "cell_type": "code",
   "execution_count": 37,
   "metadata": {},
   "outputs": [
    {
     "data": {
      "text/html": [
       "<div>\n",
       "<style scoped>\n",
       "    .dataframe tbody tr th:only-of-type {\n",
       "        vertical-align: middle;\n",
       "    }\n",
       "\n",
       "    .dataframe tbody tr th {\n",
       "        vertical-align: top;\n",
       "    }\n",
       "\n",
       "    .dataframe thead th {\n",
       "        text-align: right;\n",
       "    }\n",
       "</style>\n",
       "<table border=\"1\" class=\"dataframe\">\n",
       "  <thead>\n",
       "    <tr style=\"text-align: right;\">\n",
       "      <th></th>\n",
       "      <th>TumorVol Mean</th>\n",
       "      <th>TumorVol Median</th>\n",
       "      <th>TumorVol Variance</th>\n",
       "      <th>TumorVol StdDev</th>\n",
       "      <th>TumorVol StdError</th>\n",
       "    </tr>\n",
       "    <tr>\n",
       "      <th>Drug Regimen</th>\n",
       "      <th></th>\n",
       "      <th></th>\n",
       "      <th></th>\n",
       "      <th></th>\n",
       "      <th></th>\n",
       "    </tr>\n",
       "  </thead>\n",
       "  <tbody>\n",
       "    <tr>\n",
       "      <th>Capomulin</th>\n",
       "      <td>40.748071</td>\n",
       "      <td>41.630010</td>\n",
       "      <td>24.759139</td>\n",
       "      <td>4.975856</td>\n",
       "      <td>0.336237</td>\n",
       "    </tr>\n",
       "    <tr>\n",
       "      <th>Ceftamin</th>\n",
       "      <td>52.498560</td>\n",
       "      <td>51.635527</td>\n",
       "      <td>38.888036</td>\n",
       "      <td>6.236027</td>\n",
       "      <td>0.478281</td>\n",
       "    </tr>\n",
       "    <tr>\n",
       "      <th>Infubinol</th>\n",
       "      <td>52.923479</td>\n",
       "      <td>51.852437</td>\n",
       "      <td>43.007381</td>\n",
       "      <td>6.558001</td>\n",
       "      <td>0.501503</td>\n",
       "    </tr>\n",
       "    <tr>\n",
       "      <th>Ketapril</th>\n",
       "      <td>55.321331</td>\n",
       "      <td>53.721242</td>\n",
       "      <td>70.197476</td>\n",
       "      <td>8.378393</td>\n",
       "      <td>0.622761</td>\n",
       "    </tr>\n",
       "    <tr>\n",
       "      <th>Naftisol</th>\n",
       "      <td>54.207754</td>\n",
       "      <td>52.484804</td>\n",
       "      <td>66.835524</td>\n",
       "      <td>8.175300</td>\n",
       "      <td>0.614493</td>\n",
       "    </tr>\n",
       "    <tr>\n",
       "      <th>Placebo</th>\n",
       "      <td>53.936591</td>\n",
       "      <td>52.235289</td>\n",
       "      <td>60.253627</td>\n",
       "      <td>7.762321</td>\n",
       "      <td>0.588460</td>\n",
       "    </tr>\n",
       "    <tr>\n",
       "      <th>Propriva</th>\n",
       "      <td>52.194325</td>\n",
       "      <td>50.180109</td>\n",
       "      <td>43.084706</td>\n",
       "      <td>6.563894</td>\n",
       "      <td>0.530659</td>\n",
       "    </tr>\n",
       "    <tr>\n",
       "      <th>Ramicane</th>\n",
       "      <td>40.227444</td>\n",
       "      <td>40.896660</td>\n",
       "      <td>23.467793</td>\n",
       "      <td>4.844357</td>\n",
       "      <td>0.331153</td>\n",
       "    </tr>\n",
       "    <tr>\n",
       "      <th>Stelasyn</th>\n",
       "      <td>54.291308</td>\n",
       "      <td>52.431737</td>\n",
       "      <td>61.031535</td>\n",
       "      <td>7.812268</td>\n",
       "      <td>0.593956</td>\n",
       "    </tr>\n",
       "    <tr>\n",
       "      <th>Zoniferol</th>\n",
       "      <td>53.219504</td>\n",
       "      <td>51.636878</td>\n",
       "      <td>49.483974</td>\n",
       "      <td>7.034485</td>\n",
       "      <td>0.539520</td>\n",
       "    </tr>\n",
       "  </tbody>\n",
       "</table>\n",
       "</div>"
      ],
      "text/plain": [
       "              TumorVol Mean  TumorVol Median  TumorVol Variance  \\\n",
       "Drug Regimen                                                      \n",
       "Capomulin         40.748071        41.630010          24.759139   \n",
       "Ceftamin          52.498560        51.635527          38.888036   \n",
       "Infubinol         52.923479        51.852437          43.007381   \n",
       "Ketapril          55.321331        53.721242          70.197476   \n",
       "Naftisol          54.207754        52.484804          66.835524   \n",
       "Placebo           53.936591        52.235289          60.253627   \n",
       "Propriva          52.194325        50.180109          43.084706   \n",
       "Ramicane          40.227444        40.896660          23.467793   \n",
       "Stelasyn          54.291308        52.431737          61.031535   \n",
       "Zoniferol         53.219504        51.636878          49.483974   \n",
       "\n",
       "              TumorVol StdDev  TumorVol StdError  \n",
       "Drug Regimen                                      \n",
       "Capomulin            4.975856           0.336237  \n",
       "Ceftamin             6.236027           0.478281  \n",
       "Infubinol            6.558001           0.501503  \n",
       "Ketapril             8.378393           0.622761  \n",
       "Naftisol             8.175300           0.614493  \n",
       "Placebo              7.762321           0.588460  \n",
       "Propriva             6.563894           0.530659  \n",
       "Ramicane             4.844357           0.331153  \n",
       "Stelasyn             7.812268           0.593956  \n",
       "Zoniferol            7.034485           0.539520  "
      ]
     },
     "execution_count": 37,
     "metadata": {},
     "output_type": "execute_result"
    }
   ],
   "source": [
    "# Generate a summary statistics table of mean, median, variance, standard deviation, and SEM of the tumor volume for each regimen\n",
    "clean_df_mean = clean_df.groupby(by=['Drug Regimen']).mean()\n",
    "clean_df_median = clean_df.groupby(by=['Drug Regimen']).median()\n",
    "clean_df_var = clean_df.groupby(by=['Drug Regimen']).var()\n",
    "clean_df_stdev = clean_df.groupby(by=['Drug Regimen']).std()\n",
    "clean_df_sem = clean_df.groupby(by=['Drug Regimen']).sem()\n",
    "\n",
    "summary_stats_df = pd.DataFrame({'TumorVol Mean':clean_df_mean['Tumor Volume (mm3)'],\n",
    "                                'TumorVol Median':clean_df_median['Tumor Volume (mm3)'],\n",
    "                                'TumorVol Variance':clean_df_var['Tumor Volume (mm3)'],\n",
    "                                 'TumorVol StdDev':clean_df_stdev['Tumor Volume (mm3)'],\n",
    "                                 'TumorVol StdErr':clean_df_sem['Tumor Volume (mm3)']})\n",
    "\n",
    "summary_stats_df\n",
    "\n",
    "# Use groupby and summary statistical methods to calculate the following properties of each drug regimen: \n",
    "# mean, median, variance, standard deviation, and SEM of the tumor volume. \n",
    "# Assemble the resulting series into a single summary dataframe.\n",
    "\n"
   ]
  },
  {
   "cell_type": "code",
   "execution_count": 2,
   "metadata": {},
   "outputs": [
    {
     "ename": "NameError",
     "evalue": "name 'clean_df' is not defined",
     "output_type": "error",
     "traceback": [
      "\u001b[0;31m---------------------------------------------------------------------------\u001b[0m",
      "\u001b[0;31mNameError\u001b[0m                                 Traceback (most recent call last)",
      "\u001b[0;32m<ipython-input-2-295a94605174>\u001b[0m in \u001b[0;36m<module>\u001b[0;34m\u001b[0m\n\u001b[1;32m      1\u001b[0m \u001b[0;31m# Generate a summary statistics table of mean, median, variance, standard deviation, and SEM of the tumor volume for each regimen\u001b[0m\u001b[0;34m\u001b[0m\u001b[0;34m\u001b[0m\u001b[0;34m\u001b[0m\u001b[0m\n\u001b[0;32m----> 2\u001b[0;31m \u001b[0mclean_df\u001b[0m\u001b[0;34m.\u001b[0m\u001b[0mgroupby\u001b[0m\u001b[0;34m(\u001b[0m\u001b[0mby\u001b[0m\u001b[0;34m=\u001b[0m\u001b[0;34m'Drug Regimen'\u001b[0m\u001b[0;34m)\u001b[0m\u001b[0;34m.\u001b[0m\u001b[0magg\u001b[0m\u001b[0;34m(\u001b[0m\u001b[0;34m'mean'\u001b[0m\u001b[0;34m,\u001b[0m\u001b[0;34m'median'\u001b[0m\u001b[0;34m,\u001b[0m\u001b[0;34m'var'\u001b[0m\u001b[0;34m,\u001b[0m\u001b[0;34m'std'\u001b[0m\u001b[0;34m,\u001b[0m\u001b[0;34m'ser'\u001b[0m\u001b[0;34m,\u001b[0m\u001b[0maxis\u001b[0m\u001b[0;34m=\u001b[0m\u001b[0;34m'columns'\u001b[0m\u001b[0;34m)\u001b[0m\u001b[0;34m\u001b[0m\u001b[0;34m\u001b[0m\u001b[0m\n\u001b[0m\u001b[1;32m      3\u001b[0m \u001b[0;31m# Using the aggregation method, produce the same summary statistics in a single line\u001b[0m\u001b[0;34m\u001b[0m\u001b[0;34m\u001b[0m\u001b[0;34m\u001b[0m\u001b[0m\n",
      "\u001b[0;31mNameError\u001b[0m: name 'clean_df' is not defined"
     ]
    }
   ],
   "source": [
    "# Generate a summary statistics table of mean, median, variance, standard deviation, and SEM of the tumor volume for each regimen\n",
    "clean_df.groupby(by='Drug Regimen').agg(mean','median','var','std','ser',axis='columns')\n",
    "# Using the aggregation method, produce the same summary statistics in a single line\n"
   ]
  },
  {
   "cell_type": "markdown",
   "metadata": {},
   "source": [
    "## Bar and Pie Charts"
   ]
  },
  {
   "cell_type": "code",
   "execution_count": 9,
   "metadata": {},
   "outputs": [],
   "source": [
    "# Generate a bar plot showing the total number of measurements taken on each drug regimen using pandas.\n",
    "\n"
   ]
  },
  {
   "cell_type": "code",
   "execution_count": 10,
   "metadata": {},
   "outputs": [],
   "source": [
    "# Generate a bar plot showing the total number of measurements taken on each drug regimen using pyplot.\n",
    "\n"
   ]
  },
  {
   "cell_type": "code",
   "execution_count": 11,
   "metadata": {},
   "outputs": [],
   "source": [
    "# Generate a pie plot showing the distribution of female versus male mice using pandas\n",
    "\n"
   ]
  },
  {
   "cell_type": "code",
   "execution_count": 12,
   "metadata": {},
   "outputs": [],
   "source": [
    "# Generate a pie plot showing the distribution of female versus male mice using pyplot\n",
    "\n"
   ]
  },
  {
   "cell_type": "markdown",
   "metadata": {},
   "source": [
    "## Quartiles, Outliers and Boxplots"
   ]
  },
  {
   "cell_type": "code",
   "execution_count": 13,
   "metadata": {},
   "outputs": [],
   "source": [
    "# Calculate the final tumor volume of each mouse across four of the treatment regimens:  \n",
    "# Capomulin, Ramicane, Infubinol, and Ceftamin\n",
    "\n",
    "# Start by getting the last (greatest) timepoint for each mouse\n",
    "\n",
    "\n",
    "# Merge this group df with the original dataframe to get the tumor volume at the last timepoint\n"
   ]
  },
  {
   "cell_type": "code",
   "execution_count": 14,
   "metadata": {},
   "outputs": [],
   "source": [
    "# Put treatments into a list for for loop (and later for plot labels)\n",
    "\n",
    "\n",
    "# Create empty list to fill with tumor vol data (for plotting)\n",
    "\n",
    "\n",
    "# Calculate the IQR and quantitatively determine if there are any potential outliers. \n",
    "\n",
    "    \n",
    "    # Locate the rows which contain mice on each drug and get the tumor volumes\n",
    "    \n",
    "    \n",
    "    # add subset \n",
    "    \n",
    "    \n",
    "    # Determine outliers using upper and lower bounds\n",
    "    "
   ]
  },
  {
   "cell_type": "code",
   "execution_count": 15,
   "metadata": {},
   "outputs": [],
   "source": [
    "# Generate a box plot of the final tumor volume of each mouse across four regimens of interest\n"
   ]
  },
  {
   "cell_type": "markdown",
   "metadata": {},
   "source": [
    "## Line and Scatter Plots"
   ]
  },
  {
   "cell_type": "code",
   "execution_count": 16,
   "metadata": {},
   "outputs": [],
   "source": [
    "# Generate a line plot of tumor volume vs. time point for a mouse treated with Capomulin\n"
   ]
  },
  {
   "cell_type": "code",
   "execution_count": 17,
   "metadata": {},
   "outputs": [],
   "source": [
    "# Generate a scatter plot of average tumor volume vs. mouse weight for the Capomulin regimen\n"
   ]
  },
  {
   "cell_type": "markdown",
   "metadata": {},
   "source": [
    "## Correlation and Regression"
   ]
  },
  {
   "cell_type": "code",
   "execution_count": 18,
   "metadata": {},
   "outputs": [],
   "source": [
    "# Calculate the correlation coefficient and linear regression model \n",
    "# for mouse weight and average tumor volume for the Capomulin regimen\n"
   ]
  },
  {
   "cell_type": "code",
   "execution_count": null,
   "metadata": {},
   "outputs": [],
   "source": []
  }
 ],
 "metadata": {
  "anaconda-cloud": {},
  "kernelspec": {
   "display_name": "Python 3",
   "language": "python",
   "name": "python3"
  },
  "language_info": {
   "codemirror_mode": {
    "name": "ipython",
    "version": 3
   },
   "file_extension": ".py",
   "mimetype": "text/x-python",
   "name": "python",
   "nbconvert_exporter": "python",
   "pygments_lexer": "ipython3",
   "version": "3.8.3"
  }
 },
 "nbformat": 4,
 "nbformat_minor": 4
}
